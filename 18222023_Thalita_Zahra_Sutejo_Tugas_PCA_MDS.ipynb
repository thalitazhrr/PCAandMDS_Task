{
  "nbformat": 4,
  "nbformat_minor": 0,
  "metadata": {
    "colab": {
      "provenance": [],
      "authorship_tag": "ABX9TyMk/MqZEIU1h/gVaX4x/M6b",
      "include_colab_link": true
    },
    "kernelspec": {
      "name": "python3",
      "display_name": "Python 3"
    },
    "language_info": {
      "name": "python"
    }
  },
  "cells": [
    {
      "cell_type": "markdown",
      "metadata": {
        "id": "view-in-github",
        "colab_type": "text"
      },
      "source": [
        "<a href=\"https://colab.research.google.com/github/thalitazhrr/PCAandMDS_Task/blob/main/18222023_Thalita_Zahra_Sutejo_Tugas_PCA_MDS.ipynb\" target=\"_parent\"><img src=\"https://colab.research.google.com/assets/colab-badge.svg\" alt=\"Open In Colab\"/></a>"
      ]
    },
    {
      "cell_type": "markdown",
      "source": [
        "# **Assignment Data Analytics: Implementation and Comparative Analysis of PCA and MDS**\n",
        "## *Dimensionality Reduction and Visualization of the Iris Dataset Using PCA and MDS*\n",
        "## Thalita Zahra Sutejo\n",
        "### Student ID: **18222023**\n",
        "### Class: **18222023**"
      ],
      "metadata": {
        "id": "2ojZ_M1CDhl0"
      }
    },
    {
      "cell_type": "markdown",
      "source": [
        "***In this project, dimensionality reduction techniques—Principal Component Analysis (PCA) and Multidimensional Scaling (MDS)—were applied to the Iris dataset to explore and visualize its structure in a two-dimensional space. Through a combination of preprocessing steps and mathematical transformations, the goal was to examine how well each method captures and presents the underlying class separability. This analysis aims to highlight the similarities and differences between these two commonly used techniques and their applicability to structured, low-dimensional datasets such as Iris.***"
      ],
      "metadata": {
        "id": "0YTcNbXXDgYE"
      }
    },
    {
      "cell_type": "markdown",
      "source": [
        "\n",
        "\n",
        "## Import Libraries"
      ],
      "metadata": {
        "id": "swjTFPMdYpWO"
      }
    },
    {
      "cell_type": "code",
      "execution_count": 48,
      "metadata": {
        "id": "uBv_ZDM7HR2B"
      },
      "outputs": [],
      "source": [
        "import pandas as pd\n",
        "import numpy as np\n",
        "import seaborn as sns\n",
        "import matplotlib.pyplot as plt\n",
        "from sklearn.preprocessing import StandardScaler\n",
        "from scipy.spatial.distance import pdist, squareform"
      ]
    },
    {
      "cell_type": "markdown",
      "source": [
        "## Import Dataset"
      ],
      "metadata": {
        "id": "PteNAd2UY1nd"
      }
    },
    {
      "cell_type": "code",
      "source": [
        "# File ID from Google Drive\n",
        "# https://drive.google.com/file/d/1bw5zHssUkYYBbix5yMK7CR4qkzm5aTcw/view?usp=drive_link => File ID: 1bw5zHssUkYYBbix5yMK7CR4qkzm5aTcw\n",
        "# https://drive.google.com/uc?id={file_id}\n",
        "url = 'https://drive.google.com/uc?id=1bw5zHssUkYYBbix5yMK7CR4qkzm5aTcw'\n",
        "\n",
        "df = pd.read_csv(url, sep=',', header=None, names=[\"sepal length\", \"sepal width\", \"petal length\", \"petal width\", \"class\"])\n",
        "df"
      ],
      "metadata": {
        "colab": {
          "base_uri": "https://localhost:8080/",
          "height": 423
        },
        "id": "yS2-dAcIYssJ",
        "outputId": "e034b33f-e640-4bc7-a813-29b6c6e09dcf"
      },
      "execution_count": 49,
      "outputs": [
        {
          "output_type": "execute_result",
          "data": {
            "text/plain": [
              "     sepal length  sepal width  petal length  petal width           class\n",
              "0             5.1          3.5           1.4          0.2     Iris-setosa\n",
              "1             4.9          3.0           1.4          0.2     Iris-setosa\n",
              "2             4.7          3.2           1.3          0.2     Iris-setosa\n",
              "3             4.6          3.1           1.5          0.2     Iris-setosa\n",
              "4             5.0          3.6           1.4          0.2     Iris-setosa\n",
              "..            ...          ...           ...          ...             ...\n",
              "145           6.7          3.0           5.2          2.3  Iris-virginica\n",
              "146           6.3          2.5           5.0          1.9  Iris-virginica\n",
              "147           6.5          3.0           5.2          2.0  Iris-virginica\n",
              "148           6.2          3.4           5.4          2.3  Iris-virginica\n",
              "149           5.9          3.0           5.1          1.8  Iris-virginica\n",
              "\n",
              "[150 rows x 5 columns]"
            ],
            "text/html": [
              "\n",
              "  <div id=\"df-f22c518b-4065-4f06-b9c3-fba3e2a67bba\" class=\"colab-df-container\">\n",
              "    <div>\n",
              "<style scoped>\n",
              "    .dataframe tbody tr th:only-of-type {\n",
              "        vertical-align: middle;\n",
              "    }\n",
              "\n",
              "    .dataframe tbody tr th {\n",
              "        vertical-align: top;\n",
              "    }\n",
              "\n",
              "    .dataframe thead th {\n",
              "        text-align: right;\n",
              "    }\n",
              "</style>\n",
              "<table border=\"1\" class=\"dataframe\">\n",
              "  <thead>\n",
              "    <tr style=\"text-align: right;\">\n",
              "      <th></th>\n",
              "      <th>sepal length</th>\n",
              "      <th>sepal width</th>\n",
              "      <th>petal length</th>\n",
              "      <th>petal width</th>\n",
              "      <th>class</th>\n",
              "    </tr>\n",
              "  </thead>\n",
              "  <tbody>\n",
              "    <tr>\n",
              "      <th>0</th>\n",
              "      <td>5.1</td>\n",
              "      <td>3.5</td>\n",
              "      <td>1.4</td>\n",
              "      <td>0.2</td>\n",
              "      <td>Iris-setosa</td>\n",
              "    </tr>\n",
              "    <tr>\n",
              "      <th>1</th>\n",
              "      <td>4.9</td>\n",
              "      <td>3.0</td>\n",
              "      <td>1.4</td>\n",
              "      <td>0.2</td>\n",
              "      <td>Iris-setosa</td>\n",
              "    </tr>\n",
              "    <tr>\n",
              "      <th>2</th>\n",
              "      <td>4.7</td>\n",
              "      <td>3.2</td>\n",
              "      <td>1.3</td>\n",
              "      <td>0.2</td>\n",
              "      <td>Iris-setosa</td>\n",
              "    </tr>\n",
              "    <tr>\n",
              "      <th>3</th>\n",
              "      <td>4.6</td>\n",
              "      <td>3.1</td>\n",
              "      <td>1.5</td>\n",
              "      <td>0.2</td>\n",
              "      <td>Iris-setosa</td>\n",
              "    </tr>\n",
              "    <tr>\n",
              "      <th>4</th>\n",
              "      <td>5.0</td>\n",
              "      <td>3.6</td>\n",
              "      <td>1.4</td>\n",
              "      <td>0.2</td>\n",
              "      <td>Iris-setosa</td>\n",
              "    </tr>\n",
              "    <tr>\n",
              "      <th>...</th>\n",
              "      <td>...</td>\n",
              "      <td>...</td>\n",
              "      <td>...</td>\n",
              "      <td>...</td>\n",
              "      <td>...</td>\n",
              "    </tr>\n",
              "    <tr>\n",
              "      <th>145</th>\n",
              "      <td>6.7</td>\n",
              "      <td>3.0</td>\n",
              "      <td>5.2</td>\n",
              "      <td>2.3</td>\n",
              "      <td>Iris-virginica</td>\n",
              "    </tr>\n",
              "    <tr>\n",
              "      <th>146</th>\n",
              "      <td>6.3</td>\n",
              "      <td>2.5</td>\n",
              "      <td>5.0</td>\n",
              "      <td>1.9</td>\n",
              "      <td>Iris-virginica</td>\n",
              "    </tr>\n",
              "    <tr>\n",
              "      <th>147</th>\n",
              "      <td>6.5</td>\n",
              "      <td>3.0</td>\n",
              "      <td>5.2</td>\n",
              "      <td>2.0</td>\n",
              "      <td>Iris-virginica</td>\n",
              "    </tr>\n",
              "    <tr>\n",
              "      <th>148</th>\n",
              "      <td>6.2</td>\n",
              "      <td>3.4</td>\n",
              "      <td>5.4</td>\n",
              "      <td>2.3</td>\n",
              "      <td>Iris-virginica</td>\n",
              "    </tr>\n",
              "    <tr>\n",
              "      <th>149</th>\n",
              "      <td>5.9</td>\n",
              "      <td>3.0</td>\n",
              "      <td>5.1</td>\n",
              "      <td>1.8</td>\n",
              "      <td>Iris-virginica</td>\n",
              "    </tr>\n",
              "  </tbody>\n",
              "</table>\n",
              "<p>150 rows × 5 columns</p>\n",
              "</div>\n",
              "    <div class=\"colab-df-buttons\">\n",
              "\n",
              "  <div class=\"colab-df-container\">\n",
              "    <button class=\"colab-df-convert\" onclick=\"convertToInteractive('df-f22c518b-4065-4f06-b9c3-fba3e2a67bba')\"\n",
              "            title=\"Convert this dataframe to an interactive table.\"\n",
              "            style=\"display:none;\">\n",
              "\n",
              "  <svg xmlns=\"http://www.w3.org/2000/svg\" height=\"24px\" viewBox=\"0 -960 960 960\">\n",
              "    <path d=\"M120-120v-720h720v720H120Zm60-500h600v-160H180v160Zm220 220h160v-160H400v160Zm0 220h160v-160H400v160ZM180-400h160v-160H180v160Zm440 0h160v-160H620v160ZM180-180h160v-160H180v160Zm440 0h160v-160H620v160Z\"/>\n",
              "  </svg>\n",
              "    </button>\n",
              "\n",
              "  <style>\n",
              "    .colab-df-container {\n",
              "      display:flex;\n",
              "      gap: 12px;\n",
              "    }\n",
              "\n",
              "    .colab-df-convert {\n",
              "      background-color: #E8F0FE;\n",
              "      border: none;\n",
              "      border-radius: 50%;\n",
              "      cursor: pointer;\n",
              "      display: none;\n",
              "      fill: #1967D2;\n",
              "      height: 32px;\n",
              "      padding: 0 0 0 0;\n",
              "      width: 32px;\n",
              "    }\n",
              "\n",
              "    .colab-df-convert:hover {\n",
              "      background-color: #E2EBFA;\n",
              "      box-shadow: 0px 1px 2px rgba(60, 64, 67, 0.3), 0px 1px 3px 1px rgba(60, 64, 67, 0.15);\n",
              "      fill: #174EA6;\n",
              "    }\n",
              "\n",
              "    .colab-df-buttons div {\n",
              "      margin-bottom: 4px;\n",
              "    }\n",
              "\n",
              "    [theme=dark] .colab-df-convert {\n",
              "      background-color: #3B4455;\n",
              "      fill: #D2E3FC;\n",
              "    }\n",
              "\n",
              "    [theme=dark] .colab-df-convert:hover {\n",
              "      background-color: #434B5C;\n",
              "      box-shadow: 0px 1px 3px 1px rgba(0, 0, 0, 0.15);\n",
              "      filter: drop-shadow(0px 1px 2px rgba(0, 0, 0, 0.3));\n",
              "      fill: #FFFFFF;\n",
              "    }\n",
              "  </style>\n",
              "\n",
              "    <script>\n",
              "      const buttonEl =\n",
              "        document.querySelector('#df-f22c518b-4065-4f06-b9c3-fba3e2a67bba button.colab-df-convert');\n",
              "      buttonEl.style.display =\n",
              "        google.colab.kernel.accessAllowed ? 'block' : 'none';\n",
              "\n",
              "      async function convertToInteractive(key) {\n",
              "        const element = document.querySelector('#df-f22c518b-4065-4f06-b9c3-fba3e2a67bba');\n",
              "        const dataTable =\n",
              "          await google.colab.kernel.invokeFunction('convertToInteractive',\n",
              "                                                    [key], {});\n",
              "        if (!dataTable) return;\n",
              "\n",
              "        const docLinkHtml = 'Like what you see? Visit the ' +\n",
              "          '<a target=\"_blank\" href=https://colab.research.google.com/notebooks/data_table.ipynb>data table notebook</a>'\n",
              "          + ' to learn more about interactive tables.';\n",
              "        element.innerHTML = '';\n",
              "        dataTable['output_type'] = 'display_data';\n",
              "        await google.colab.output.renderOutput(dataTable, element);\n",
              "        const docLink = document.createElement('div');\n",
              "        docLink.innerHTML = docLinkHtml;\n",
              "        element.appendChild(docLink);\n",
              "      }\n",
              "    </script>\n",
              "  </div>\n",
              "\n",
              "\n",
              "<div id=\"df-695be239-5b70-499f-be1f-1a4f4f20c318\">\n",
              "  <button class=\"colab-df-quickchart\" onclick=\"quickchart('df-695be239-5b70-499f-be1f-1a4f4f20c318')\"\n",
              "            title=\"Suggest charts\"\n",
              "            style=\"display:none;\">\n",
              "\n",
              "<svg xmlns=\"http://www.w3.org/2000/svg\" height=\"24px\"viewBox=\"0 0 24 24\"\n",
              "     width=\"24px\">\n",
              "    <g>\n",
              "        <path d=\"M19 3H5c-1.1 0-2 .9-2 2v14c0 1.1.9 2 2 2h14c1.1 0 2-.9 2-2V5c0-1.1-.9-2-2-2zM9 17H7v-7h2v7zm4 0h-2V7h2v10zm4 0h-2v-4h2v4z\"/>\n",
              "    </g>\n",
              "</svg>\n",
              "  </button>\n",
              "\n",
              "<style>\n",
              "  .colab-df-quickchart {\n",
              "      --bg-color: #E8F0FE;\n",
              "      --fill-color: #1967D2;\n",
              "      --hover-bg-color: #E2EBFA;\n",
              "      --hover-fill-color: #174EA6;\n",
              "      --disabled-fill-color: #AAA;\n",
              "      --disabled-bg-color: #DDD;\n",
              "  }\n",
              "\n",
              "  [theme=dark] .colab-df-quickchart {\n",
              "      --bg-color: #3B4455;\n",
              "      --fill-color: #D2E3FC;\n",
              "      --hover-bg-color: #434B5C;\n",
              "      --hover-fill-color: #FFFFFF;\n",
              "      --disabled-bg-color: #3B4455;\n",
              "      --disabled-fill-color: #666;\n",
              "  }\n",
              "\n",
              "  .colab-df-quickchart {\n",
              "    background-color: var(--bg-color);\n",
              "    border: none;\n",
              "    border-radius: 50%;\n",
              "    cursor: pointer;\n",
              "    display: none;\n",
              "    fill: var(--fill-color);\n",
              "    height: 32px;\n",
              "    padding: 0;\n",
              "    width: 32px;\n",
              "  }\n",
              "\n",
              "  .colab-df-quickchart:hover {\n",
              "    background-color: var(--hover-bg-color);\n",
              "    box-shadow: 0 1px 2px rgba(60, 64, 67, 0.3), 0 1px 3px 1px rgba(60, 64, 67, 0.15);\n",
              "    fill: var(--button-hover-fill-color);\n",
              "  }\n",
              "\n",
              "  .colab-df-quickchart-complete:disabled,\n",
              "  .colab-df-quickchart-complete:disabled:hover {\n",
              "    background-color: var(--disabled-bg-color);\n",
              "    fill: var(--disabled-fill-color);\n",
              "    box-shadow: none;\n",
              "  }\n",
              "\n",
              "  .colab-df-spinner {\n",
              "    border: 2px solid var(--fill-color);\n",
              "    border-color: transparent;\n",
              "    border-bottom-color: var(--fill-color);\n",
              "    animation:\n",
              "      spin 1s steps(1) infinite;\n",
              "  }\n",
              "\n",
              "  @keyframes spin {\n",
              "    0% {\n",
              "      border-color: transparent;\n",
              "      border-bottom-color: var(--fill-color);\n",
              "      border-left-color: var(--fill-color);\n",
              "    }\n",
              "    20% {\n",
              "      border-color: transparent;\n",
              "      border-left-color: var(--fill-color);\n",
              "      border-top-color: var(--fill-color);\n",
              "    }\n",
              "    30% {\n",
              "      border-color: transparent;\n",
              "      border-left-color: var(--fill-color);\n",
              "      border-top-color: var(--fill-color);\n",
              "      border-right-color: var(--fill-color);\n",
              "    }\n",
              "    40% {\n",
              "      border-color: transparent;\n",
              "      border-right-color: var(--fill-color);\n",
              "      border-top-color: var(--fill-color);\n",
              "    }\n",
              "    60% {\n",
              "      border-color: transparent;\n",
              "      border-right-color: var(--fill-color);\n",
              "    }\n",
              "    80% {\n",
              "      border-color: transparent;\n",
              "      border-right-color: var(--fill-color);\n",
              "      border-bottom-color: var(--fill-color);\n",
              "    }\n",
              "    90% {\n",
              "      border-color: transparent;\n",
              "      border-bottom-color: var(--fill-color);\n",
              "    }\n",
              "  }\n",
              "</style>\n",
              "\n",
              "  <script>\n",
              "    async function quickchart(key) {\n",
              "      const quickchartButtonEl =\n",
              "        document.querySelector('#' + key + ' button');\n",
              "      quickchartButtonEl.disabled = true;  // To prevent multiple clicks.\n",
              "      quickchartButtonEl.classList.add('colab-df-spinner');\n",
              "      try {\n",
              "        const charts = await google.colab.kernel.invokeFunction(\n",
              "            'suggestCharts', [key], {});\n",
              "      } catch (error) {\n",
              "        console.error('Error during call to suggestCharts:', error);\n",
              "      }\n",
              "      quickchartButtonEl.classList.remove('colab-df-spinner');\n",
              "      quickchartButtonEl.classList.add('colab-df-quickchart-complete');\n",
              "    }\n",
              "    (() => {\n",
              "      let quickchartButtonEl =\n",
              "        document.querySelector('#df-695be239-5b70-499f-be1f-1a4f4f20c318 button');\n",
              "      quickchartButtonEl.style.display =\n",
              "        google.colab.kernel.accessAllowed ? 'block' : 'none';\n",
              "    })();\n",
              "  </script>\n",
              "</div>\n",
              "\n",
              "  <div id=\"id_7c009fbc-b3d7-4ddd-a49f-d2de9d1537f4\">\n",
              "    <style>\n",
              "      .colab-df-generate {\n",
              "        background-color: #E8F0FE;\n",
              "        border: none;\n",
              "        border-radius: 50%;\n",
              "        cursor: pointer;\n",
              "        display: none;\n",
              "        fill: #1967D2;\n",
              "        height: 32px;\n",
              "        padding: 0 0 0 0;\n",
              "        width: 32px;\n",
              "      }\n",
              "\n",
              "      .colab-df-generate:hover {\n",
              "        background-color: #E2EBFA;\n",
              "        box-shadow: 0px 1px 2px rgba(60, 64, 67, 0.3), 0px 1px 3px 1px rgba(60, 64, 67, 0.15);\n",
              "        fill: #174EA6;\n",
              "      }\n",
              "\n",
              "      [theme=dark] .colab-df-generate {\n",
              "        background-color: #3B4455;\n",
              "        fill: #D2E3FC;\n",
              "      }\n",
              "\n",
              "      [theme=dark] .colab-df-generate:hover {\n",
              "        background-color: #434B5C;\n",
              "        box-shadow: 0px 1px 3px 1px rgba(0, 0, 0, 0.15);\n",
              "        filter: drop-shadow(0px 1px 2px rgba(0, 0, 0, 0.3));\n",
              "        fill: #FFFFFF;\n",
              "      }\n",
              "    </style>\n",
              "    <button class=\"colab-df-generate\" onclick=\"generateWithVariable('df')\"\n",
              "            title=\"Generate code using this dataframe.\"\n",
              "            style=\"display:none;\">\n",
              "\n",
              "  <svg xmlns=\"http://www.w3.org/2000/svg\" height=\"24px\"viewBox=\"0 0 24 24\"\n",
              "       width=\"24px\">\n",
              "    <path d=\"M7,19H8.4L18.45,9,17,7.55,7,17.6ZM5,21V16.75L18.45,3.32a2,2,0,0,1,2.83,0l1.4,1.43a1.91,1.91,0,0,1,.58,1.4,1.91,1.91,0,0,1-.58,1.4L9.25,21ZM18.45,9,17,7.55Zm-12,3A5.31,5.31,0,0,0,4.9,8.1,5.31,5.31,0,0,0,1,6.5,5.31,5.31,0,0,0,4.9,4.9,5.31,5.31,0,0,0,6.5,1,5.31,5.31,0,0,0,8.1,4.9,5.31,5.31,0,0,0,12,6.5,5.46,5.46,0,0,0,6.5,12Z\"/>\n",
              "  </svg>\n",
              "    </button>\n",
              "    <script>\n",
              "      (() => {\n",
              "      const buttonEl =\n",
              "        document.querySelector('#id_7c009fbc-b3d7-4ddd-a49f-d2de9d1537f4 button.colab-df-generate');\n",
              "      buttonEl.style.display =\n",
              "        google.colab.kernel.accessAllowed ? 'block' : 'none';\n",
              "\n",
              "      buttonEl.onclick = () => {\n",
              "        google.colab.notebook.generateWithVariable('df');\n",
              "      }\n",
              "      })();\n",
              "    </script>\n",
              "  </div>\n",
              "\n",
              "    </div>\n",
              "  </div>\n"
            ],
            "application/vnd.google.colaboratory.intrinsic+json": {
              "type": "dataframe",
              "variable_name": "df",
              "summary": "{\n  \"name\": \"df\",\n  \"rows\": 150,\n  \"fields\": [\n    {\n      \"column\": \"sepal length\",\n      \"properties\": {\n        \"dtype\": \"number\",\n        \"std\": 0.8280661279778629,\n        \"min\": 4.3,\n        \"max\": 7.9,\n        \"num_unique_values\": 35,\n        \"samples\": [\n          6.2,\n          4.5,\n          5.6\n        ],\n        \"semantic_type\": \"\",\n        \"description\": \"\"\n      }\n    },\n    {\n      \"column\": \"sepal width\",\n      \"properties\": {\n        \"dtype\": \"number\",\n        \"std\": 0.4335943113621737,\n        \"min\": 2.0,\n        \"max\": 4.4,\n        \"num_unique_values\": 23,\n        \"samples\": [\n          2.3,\n          4.0,\n          3.5\n        ],\n        \"semantic_type\": \"\",\n        \"description\": \"\"\n      }\n    },\n    {\n      \"column\": \"petal length\",\n      \"properties\": {\n        \"dtype\": \"number\",\n        \"std\": 1.7644204199522617,\n        \"min\": 1.0,\n        \"max\": 6.9,\n        \"num_unique_values\": 43,\n        \"samples\": [\n          6.7,\n          3.8,\n          3.7\n        ],\n        \"semantic_type\": \"\",\n        \"description\": \"\"\n      }\n    },\n    {\n      \"column\": \"petal width\",\n      \"properties\": {\n        \"dtype\": \"number\",\n        \"std\": 0.7631607417008414,\n        \"min\": 0.1,\n        \"max\": 2.5,\n        \"num_unique_values\": 22,\n        \"samples\": [\n          0.2,\n          1.2,\n          1.3\n        ],\n        \"semantic_type\": \"\",\n        \"description\": \"\"\n      }\n    },\n    {\n      \"column\": \"class\",\n      \"properties\": {\n        \"dtype\": \"category\",\n        \"num_unique_values\": 3,\n        \"samples\": [\n          \"Iris-setosa\",\n          \"Iris-versicolor\",\n          \"Iris-virginica\"\n        ],\n        \"semantic_type\": \"\",\n        \"description\": \"\"\n      }\n    }\n  ]\n}"
            }
          },
          "metadata": {},
          "execution_count": 49
        }
      ]
    },
    {
      "cell_type": "code",
      "source": [
        "# Categorical Column\n",
        "categorical_columns = [\n",
        "    'class'\n",
        "]\n",
        "\n",
        "numerical_columns = [col for col in df.columns if col not in categorical_columns]\n",
        "\n",
        "# DataFrame Categorical\n",
        "df_categorical = df[categorical_columns]\n",
        "df_numerical= df[categorical_columns]\n",
        "\n",
        "column_info = []\n",
        "\n",
        "for col in df.columns:\n",
        "    tipe = 'Categorical' if col in categorical_columns else 'Numerical'\n",
        "    column_info.append({'Nama Kolom': col, 'Tipe Data': tipe})\n",
        "\n",
        "df_info = pd.DataFrame(column_info)\n",
        "df_info"
      ],
      "metadata": {
        "colab": {
          "base_uri": "https://localhost:8080/",
          "height": 206
        },
        "id": "DmNFQ5M7bFP5",
        "outputId": "dc053fe5-4b20-46eb-f891-89df7e9d74cf"
      },
      "execution_count": 50,
      "outputs": [
        {
          "output_type": "execute_result",
          "data": {
            "text/plain": [
              "     Nama Kolom    Tipe Data\n",
              "0  sepal length    Numerical\n",
              "1   sepal width    Numerical\n",
              "2  petal length    Numerical\n",
              "3   petal width    Numerical\n",
              "4         class  Categorical"
            ],
            "text/html": [
              "\n",
              "  <div id=\"df-add6ceb0-26bb-4e74-82fe-14f8e6fbd6af\" class=\"colab-df-container\">\n",
              "    <div>\n",
              "<style scoped>\n",
              "    .dataframe tbody tr th:only-of-type {\n",
              "        vertical-align: middle;\n",
              "    }\n",
              "\n",
              "    .dataframe tbody tr th {\n",
              "        vertical-align: top;\n",
              "    }\n",
              "\n",
              "    .dataframe thead th {\n",
              "        text-align: right;\n",
              "    }\n",
              "</style>\n",
              "<table border=\"1\" class=\"dataframe\">\n",
              "  <thead>\n",
              "    <tr style=\"text-align: right;\">\n",
              "      <th></th>\n",
              "      <th>Nama Kolom</th>\n",
              "      <th>Tipe Data</th>\n",
              "    </tr>\n",
              "  </thead>\n",
              "  <tbody>\n",
              "    <tr>\n",
              "      <th>0</th>\n",
              "      <td>sepal length</td>\n",
              "      <td>Numerical</td>\n",
              "    </tr>\n",
              "    <tr>\n",
              "      <th>1</th>\n",
              "      <td>sepal width</td>\n",
              "      <td>Numerical</td>\n",
              "    </tr>\n",
              "    <tr>\n",
              "      <th>2</th>\n",
              "      <td>petal length</td>\n",
              "      <td>Numerical</td>\n",
              "    </tr>\n",
              "    <tr>\n",
              "      <th>3</th>\n",
              "      <td>petal width</td>\n",
              "      <td>Numerical</td>\n",
              "    </tr>\n",
              "    <tr>\n",
              "      <th>4</th>\n",
              "      <td>class</td>\n",
              "      <td>Categorical</td>\n",
              "    </tr>\n",
              "  </tbody>\n",
              "</table>\n",
              "</div>\n",
              "    <div class=\"colab-df-buttons\">\n",
              "\n",
              "  <div class=\"colab-df-container\">\n",
              "    <button class=\"colab-df-convert\" onclick=\"convertToInteractive('df-add6ceb0-26bb-4e74-82fe-14f8e6fbd6af')\"\n",
              "            title=\"Convert this dataframe to an interactive table.\"\n",
              "            style=\"display:none;\">\n",
              "\n",
              "  <svg xmlns=\"http://www.w3.org/2000/svg\" height=\"24px\" viewBox=\"0 -960 960 960\">\n",
              "    <path d=\"M120-120v-720h720v720H120Zm60-500h600v-160H180v160Zm220 220h160v-160H400v160Zm0 220h160v-160H400v160ZM180-400h160v-160H180v160Zm440 0h160v-160H620v160ZM180-180h160v-160H180v160Zm440 0h160v-160H620v160Z\"/>\n",
              "  </svg>\n",
              "    </button>\n",
              "\n",
              "  <style>\n",
              "    .colab-df-container {\n",
              "      display:flex;\n",
              "      gap: 12px;\n",
              "    }\n",
              "\n",
              "    .colab-df-convert {\n",
              "      background-color: #E8F0FE;\n",
              "      border: none;\n",
              "      border-radius: 50%;\n",
              "      cursor: pointer;\n",
              "      display: none;\n",
              "      fill: #1967D2;\n",
              "      height: 32px;\n",
              "      padding: 0 0 0 0;\n",
              "      width: 32px;\n",
              "    }\n",
              "\n",
              "    .colab-df-convert:hover {\n",
              "      background-color: #E2EBFA;\n",
              "      box-shadow: 0px 1px 2px rgba(60, 64, 67, 0.3), 0px 1px 3px 1px rgba(60, 64, 67, 0.15);\n",
              "      fill: #174EA6;\n",
              "    }\n",
              "\n",
              "    .colab-df-buttons div {\n",
              "      margin-bottom: 4px;\n",
              "    }\n",
              "\n",
              "    [theme=dark] .colab-df-convert {\n",
              "      background-color: #3B4455;\n",
              "      fill: #D2E3FC;\n",
              "    }\n",
              "\n",
              "    [theme=dark] .colab-df-convert:hover {\n",
              "      background-color: #434B5C;\n",
              "      box-shadow: 0px 1px 3px 1px rgba(0, 0, 0, 0.15);\n",
              "      filter: drop-shadow(0px 1px 2px rgba(0, 0, 0, 0.3));\n",
              "      fill: #FFFFFF;\n",
              "    }\n",
              "  </style>\n",
              "\n",
              "    <script>\n",
              "      const buttonEl =\n",
              "        document.querySelector('#df-add6ceb0-26bb-4e74-82fe-14f8e6fbd6af button.colab-df-convert');\n",
              "      buttonEl.style.display =\n",
              "        google.colab.kernel.accessAllowed ? 'block' : 'none';\n",
              "\n",
              "      async function convertToInteractive(key) {\n",
              "        const element = document.querySelector('#df-add6ceb0-26bb-4e74-82fe-14f8e6fbd6af');\n",
              "        const dataTable =\n",
              "          await google.colab.kernel.invokeFunction('convertToInteractive',\n",
              "                                                    [key], {});\n",
              "        if (!dataTable) return;\n",
              "\n",
              "        const docLinkHtml = 'Like what you see? Visit the ' +\n",
              "          '<a target=\"_blank\" href=https://colab.research.google.com/notebooks/data_table.ipynb>data table notebook</a>'\n",
              "          + ' to learn more about interactive tables.';\n",
              "        element.innerHTML = '';\n",
              "        dataTable['output_type'] = 'display_data';\n",
              "        await google.colab.output.renderOutput(dataTable, element);\n",
              "        const docLink = document.createElement('div');\n",
              "        docLink.innerHTML = docLinkHtml;\n",
              "        element.appendChild(docLink);\n",
              "      }\n",
              "    </script>\n",
              "  </div>\n",
              "\n",
              "\n",
              "<div id=\"df-36e9a0f5-ad74-4dd2-9710-c89ec0161253\">\n",
              "  <button class=\"colab-df-quickchart\" onclick=\"quickchart('df-36e9a0f5-ad74-4dd2-9710-c89ec0161253')\"\n",
              "            title=\"Suggest charts\"\n",
              "            style=\"display:none;\">\n",
              "\n",
              "<svg xmlns=\"http://www.w3.org/2000/svg\" height=\"24px\"viewBox=\"0 0 24 24\"\n",
              "     width=\"24px\">\n",
              "    <g>\n",
              "        <path d=\"M19 3H5c-1.1 0-2 .9-2 2v14c0 1.1.9 2 2 2h14c1.1 0 2-.9 2-2V5c0-1.1-.9-2-2-2zM9 17H7v-7h2v7zm4 0h-2V7h2v10zm4 0h-2v-4h2v4z\"/>\n",
              "    </g>\n",
              "</svg>\n",
              "  </button>\n",
              "\n",
              "<style>\n",
              "  .colab-df-quickchart {\n",
              "      --bg-color: #E8F0FE;\n",
              "      --fill-color: #1967D2;\n",
              "      --hover-bg-color: #E2EBFA;\n",
              "      --hover-fill-color: #174EA6;\n",
              "      --disabled-fill-color: #AAA;\n",
              "      --disabled-bg-color: #DDD;\n",
              "  }\n",
              "\n",
              "  [theme=dark] .colab-df-quickchart {\n",
              "      --bg-color: #3B4455;\n",
              "      --fill-color: #D2E3FC;\n",
              "      --hover-bg-color: #434B5C;\n",
              "      --hover-fill-color: #FFFFFF;\n",
              "      --disabled-bg-color: #3B4455;\n",
              "      --disabled-fill-color: #666;\n",
              "  }\n",
              "\n",
              "  .colab-df-quickchart {\n",
              "    background-color: var(--bg-color);\n",
              "    border: none;\n",
              "    border-radius: 50%;\n",
              "    cursor: pointer;\n",
              "    display: none;\n",
              "    fill: var(--fill-color);\n",
              "    height: 32px;\n",
              "    padding: 0;\n",
              "    width: 32px;\n",
              "  }\n",
              "\n",
              "  .colab-df-quickchart:hover {\n",
              "    background-color: var(--hover-bg-color);\n",
              "    box-shadow: 0 1px 2px rgba(60, 64, 67, 0.3), 0 1px 3px 1px rgba(60, 64, 67, 0.15);\n",
              "    fill: var(--button-hover-fill-color);\n",
              "  }\n",
              "\n",
              "  .colab-df-quickchart-complete:disabled,\n",
              "  .colab-df-quickchart-complete:disabled:hover {\n",
              "    background-color: var(--disabled-bg-color);\n",
              "    fill: var(--disabled-fill-color);\n",
              "    box-shadow: none;\n",
              "  }\n",
              "\n",
              "  .colab-df-spinner {\n",
              "    border: 2px solid var(--fill-color);\n",
              "    border-color: transparent;\n",
              "    border-bottom-color: var(--fill-color);\n",
              "    animation:\n",
              "      spin 1s steps(1) infinite;\n",
              "  }\n",
              "\n",
              "  @keyframes spin {\n",
              "    0% {\n",
              "      border-color: transparent;\n",
              "      border-bottom-color: var(--fill-color);\n",
              "      border-left-color: var(--fill-color);\n",
              "    }\n",
              "    20% {\n",
              "      border-color: transparent;\n",
              "      border-left-color: var(--fill-color);\n",
              "      border-top-color: var(--fill-color);\n",
              "    }\n",
              "    30% {\n",
              "      border-color: transparent;\n",
              "      border-left-color: var(--fill-color);\n",
              "      border-top-color: var(--fill-color);\n",
              "      border-right-color: var(--fill-color);\n",
              "    }\n",
              "    40% {\n",
              "      border-color: transparent;\n",
              "      border-right-color: var(--fill-color);\n",
              "      border-top-color: var(--fill-color);\n",
              "    }\n",
              "    60% {\n",
              "      border-color: transparent;\n",
              "      border-right-color: var(--fill-color);\n",
              "    }\n",
              "    80% {\n",
              "      border-color: transparent;\n",
              "      border-right-color: var(--fill-color);\n",
              "      border-bottom-color: var(--fill-color);\n",
              "    }\n",
              "    90% {\n",
              "      border-color: transparent;\n",
              "      border-bottom-color: var(--fill-color);\n",
              "    }\n",
              "  }\n",
              "</style>\n",
              "\n",
              "  <script>\n",
              "    async function quickchart(key) {\n",
              "      const quickchartButtonEl =\n",
              "        document.querySelector('#' + key + ' button');\n",
              "      quickchartButtonEl.disabled = true;  // To prevent multiple clicks.\n",
              "      quickchartButtonEl.classList.add('colab-df-spinner');\n",
              "      try {\n",
              "        const charts = await google.colab.kernel.invokeFunction(\n",
              "            'suggestCharts', [key], {});\n",
              "      } catch (error) {\n",
              "        console.error('Error during call to suggestCharts:', error);\n",
              "      }\n",
              "      quickchartButtonEl.classList.remove('colab-df-spinner');\n",
              "      quickchartButtonEl.classList.add('colab-df-quickchart-complete');\n",
              "    }\n",
              "    (() => {\n",
              "      let quickchartButtonEl =\n",
              "        document.querySelector('#df-36e9a0f5-ad74-4dd2-9710-c89ec0161253 button');\n",
              "      quickchartButtonEl.style.display =\n",
              "        google.colab.kernel.accessAllowed ? 'block' : 'none';\n",
              "    })();\n",
              "  </script>\n",
              "</div>\n",
              "\n",
              "  <div id=\"id_8646f428-0ccd-4123-8fff-d57564529fb6\">\n",
              "    <style>\n",
              "      .colab-df-generate {\n",
              "        background-color: #E8F0FE;\n",
              "        border: none;\n",
              "        border-radius: 50%;\n",
              "        cursor: pointer;\n",
              "        display: none;\n",
              "        fill: #1967D2;\n",
              "        height: 32px;\n",
              "        padding: 0 0 0 0;\n",
              "        width: 32px;\n",
              "      }\n",
              "\n",
              "      .colab-df-generate:hover {\n",
              "        background-color: #E2EBFA;\n",
              "        box-shadow: 0px 1px 2px rgba(60, 64, 67, 0.3), 0px 1px 3px 1px rgba(60, 64, 67, 0.15);\n",
              "        fill: #174EA6;\n",
              "      }\n",
              "\n",
              "      [theme=dark] .colab-df-generate {\n",
              "        background-color: #3B4455;\n",
              "        fill: #D2E3FC;\n",
              "      }\n",
              "\n",
              "      [theme=dark] .colab-df-generate:hover {\n",
              "        background-color: #434B5C;\n",
              "        box-shadow: 0px 1px 3px 1px rgba(0, 0, 0, 0.15);\n",
              "        filter: drop-shadow(0px 1px 2px rgba(0, 0, 0, 0.3));\n",
              "        fill: #FFFFFF;\n",
              "      }\n",
              "    </style>\n",
              "    <button class=\"colab-df-generate\" onclick=\"generateWithVariable('df_info')\"\n",
              "            title=\"Generate code using this dataframe.\"\n",
              "            style=\"display:none;\">\n",
              "\n",
              "  <svg xmlns=\"http://www.w3.org/2000/svg\" height=\"24px\"viewBox=\"0 0 24 24\"\n",
              "       width=\"24px\">\n",
              "    <path d=\"M7,19H8.4L18.45,9,17,7.55,7,17.6ZM5,21V16.75L18.45,3.32a2,2,0,0,1,2.83,0l1.4,1.43a1.91,1.91,0,0,1,.58,1.4,1.91,1.91,0,0,1-.58,1.4L9.25,21ZM18.45,9,17,7.55Zm-12,3A5.31,5.31,0,0,0,4.9,8.1,5.31,5.31,0,0,0,1,6.5,5.31,5.31,0,0,0,4.9,4.9,5.31,5.31,0,0,0,6.5,1,5.31,5.31,0,0,0,8.1,4.9,5.31,5.31,0,0,0,12,6.5,5.46,5.46,0,0,0,6.5,12Z\"/>\n",
              "  </svg>\n",
              "    </button>\n",
              "    <script>\n",
              "      (() => {\n",
              "      const buttonEl =\n",
              "        document.querySelector('#id_8646f428-0ccd-4123-8fff-d57564529fb6 button.colab-df-generate');\n",
              "      buttonEl.style.display =\n",
              "        google.colab.kernel.accessAllowed ? 'block' : 'none';\n",
              "\n",
              "      buttonEl.onclick = () => {\n",
              "        google.colab.notebook.generateWithVariable('df_info');\n",
              "      }\n",
              "      })();\n",
              "    </script>\n",
              "  </div>\n",
              "\n",
              "    </div>\n",
              "  </div>\n"
            ],
            "application/vnd.google.colaboratory.intrinsic+json": {
              "type": "dataframe",
              "variable_name": "df_info",
              "summary": "{\n  \"name\": \"df_info\",\n  \"rows\": 5,\n  \"fields\": [\n    {\n      \"column\": \"Nama Kolom\",\n      \"properties\": {\n        \"dtype\": \"string\",\n        \"num_unique_values\": 5,\n        \"samples\": [\n          \"sepal width\",\n          \"class\",\n          \"petal length\"\n        ],\n        \"semantic_type\": \"\",\n        \"description\": \"\"\n      }\n    },\n    {\n      \"column\": \"Tipe Data\",\n      \"properties\": {\n        \"dtype\": \"category\",\n        \"num_unique_values\": 2,\n        \"samples\": [\n          \"Categorical\",\n          \"Numerical\"\n        ],\n        \"semantic_type\": \"\",\n        \"description\": \"\"\n      }\n    }\n  ]\n}"
            }
          },
          "metadata": {},
          "execution_count": 50
        }
      ]
    },
    {
      "cell_type": "markdown",
      "source": [
        "# 2. Data Cleaning and Preprocessing"
      ],
      "metadata": {
        "id": "S_BjEShqb8GI"
      }
    },
    {
      "cell_type": "markdown",
      "source": [
        "## Data Cleaning"
      ],
      "metadata": {
        "id": "bEwktJ0yzZT_"
      }
    },
    {
      "cell_type": "markdown",
      "source": [
        "Data Cleaning is a crucial initial step in any data analysis or machine learning workflow. It involves identifying and correcting errors, inconsistencies, and inaccuracies within the dataset to ensure the quality and reliability of subsequent analysis. The process typically includes handling missing values by either imputing or removing them, depending on the extent and nature of the missing data. Duplicate entries are also identified and removed to avoid bias and redundancy. In addition, data validation is performed to ensure that the values conform to expected formats or ranges, and to catch any anomalies caused by human or system errors. Outliers, which can significantly distort the results, are detected and either removed or treated appropriately. Overall, effective data cleaning enhances the accuracy, efficiency, and trustworthiness of data-driven insights.\n",
        "\n"
      ],
      "metadata": {
        "id": "Ynqq9Fp7Angm"
      }
    },
    {
      "cell_type": "markdown",
      "source": [
        "### Handling Missing Values"
      ],
      "metadata": {
        "id": "IMF9aajTc0XI"
      }
    },
    {
      "cell_type": "code",
      "source": [
        "df.isnull().sum()"
      ],
      "metadata": {
        "colab": {
          "base_uri": "https://localhost:8080/",
          "height": 241
        },
        "id": "BPYO8DBCbf-q",
        "outputId": "48b921b0-4921-4238-d5ca-8ea7cfa522c3"
      },
      "execution_count": 51,
      "outputs": [
        {
          "output_type": "execute_result",
          "data": {
            "text/plain": [
              "sepal length    0\n",
              "sepal width     0\n",
              "petal length    0\n",
              "petal width     0\n",
              "class           0\n",
              "dtype: int64"
            ],
            "text/html": [
              "<div>\n",
              "<style scoped>\n",
              "    .dataframe tbody tr th:only-of-type {\n",
              "        vertical-align: middle;\n",
              "    }\n",
              "\n",
              "    .dataframe tbody tr th {\n",
              "        vertical-align: top;\n",
              "    }\n",
              "\n",
              "    .dataframe thead th {\n",
              "        text-align: right;\n",
              "    }\n",
              "</style>\n",
              "<table border=\"1\" class=\"dataframe\">\n",
              "  <thead>\n",
              "    <tr style=\"text-align: right;\">\n",
              "      <th></th>\n",
              "      <th>0</th>\n",
              "    </tr>\n",
              "  </thead>\n",
              "  <tbody>\n",
              "    <tr>\n",
              "      <th>sepal length</th>\n",
              "      <td>0</td>\n",
              "    </tr>\n",
              "    <tr>\n",
              "      <th>sepal width</th>\n",
              "      <td>0</td>\n",
              "    </tr>\n",
              "    <tr>\n",
              "      <th>petal length</th>\n",
              "      <td>0</td>\n",
              "    </tr>\n",
              "    <tr>\n",
              "      <th>petal width</th>\n",
              "      <td>0</td>\n",
              "    </tr>\n",
              "    <tr>\n",
              "      <th>class</th>\n",
              "      <td>0</td>\n",
              "    </tr>\n",
              "  </tbody>\n",
              "</table>\n",
              "</div><br><label><b>dtype:</b> int64</label>"
            ]
          },
          "metadata": {},
          "execution_count": 51
        }
      ]
    },
    {
      "cell_type": "markdown",
      "source": [
        "### Remove Duplicates"
      ],
      "metadata": {
        "id": "5MqJbkT6c44P"
      }
    },
    {
      "cell_type": "code",
      "source": [
        "df.duplicated().sum()"
      ],
      "metadata": {
        "colab": {
          "base_uri": "https://localhost:8080/"
        },
        "id": "A_HxRTXkcnrX",
        "outputId": "7d303555-fc34-4db0-e980-b4639d114871"
      },
      "execution_count": 52,
      "outputs": [
        {
          "output_type": "execute_result",
          "data": {
            "text/plain": [
              "np.int64(3)"
            ]
          },
          "metadata": {},
          "execution_count": 52
        }
      ]
    },
    {
      "cell_type": "code",
      "source": [
        "df[df.duplicated(keep=False)].sort_values(by=list(df.columns))"
      ],
      "metadata": {
        "colab": {
          "base_uri": "https://localhost:8080/",
          "height": 206
        },
        "id": "6gMXGIftdkcE",
        "outputId": "e3c56956-2c6f-42c0-af3a-fd0920d8a8d2"
      },
      "execution_count": 53,
      "outputs": [
        {
          "output_type": "execute_result",
          "data": {
            "text/plain": [
              "     sepal length  sepal width  petal length  petal width           class\n",
              "9             4.9          3.1           1.5          0.1     Iris-setosa\n",
              "34            4.9          3.1           1.5          0.1     Iris-setosa\n",
              "37            4.9          3.1           1.5          0.1     Iris-setosa\n",
              "101           5.8          2.7           5.1          1.9  Iris-virginica\n",
              "142           5.8          2.7           5.1          1.9  Iris-virginica"
            ],
            "text/html": [
              "\n",
              "  <div id=\"df-40a5389f-eaab-4807-9e35-e0ce79e76dec\" class=\"colab-df-container\">\n",
              "    <div>\n",
              "<style scoped>\n",
              "    .dataframe tbody tr th:only-of-type {\n",
              "        vertical-align: middle;\n",
              "    }\n",
              "\n",
              "    .dataframe tbody tr th {\n",
              "        vertical-align: top;\n",
              "    }\n",
              "\n",
              "    .dataframe thead th {\n",
              "        text-align: right;\n",
              "    }\n",
              "</style>\n",
              "<table border=\"1\" class=\"dataframe\">\n",
              "  <thead>\n",
              "    <tr style=\"text-align: right;\">\n",
              "      <th></th>\n",
              "      <th>sepal length</th>\n",
              "      <th>sepal width</th>\n",
              "      <th>petal length</th>\n",
              "      <th>petal width</th>\n",
              "      <th>class</th>\n",
              "    </tr>\n",
              "  </thead>\n",
              "  <tbody>\n",
              "    <tr>\n",
              "      <th>9</th>\n",
              "      <td>4.9</td>\n",
              "      <td>3.1</td>\n",
              "      <td>1.5</td>\n",
              "      <td>0.1</td>\n",
              "      <td>Iris-setosa</td>\n",
              "    </tr>\n",
              "    <tr>\n",
              "      <th>34</th>\n",
              "      <td>4.9</td>\n",
              "      <td>3.1</td>\n",
              "      <td>1.5</td>\n",
              "      <td>0.1</td>\n",
              "      <td>Iris-setosa</td>\n",
              "    </tr>\n",
              "    <tr>\n",
              "      <th>37</th>\n",
              "      <td>4.9</td>\n",
              "      <td>3.1</td>\n",
              "      <td>1.5</td>\n",
              "      <td>0.1</td>\n",
              "      <td>Iris-setosa</td>\n",
              "    </tr>\n",
              "    <tr>\n",
              "      <th>101</th>\n",
              "      <td>5.8</td>\n",
              "      <td>2.7</td>\n",
              "      <td>5.1</td>\n",
              "      <td>1.9</td>\n",
              "      <td>Iris-virginica</td>\n",
              "    </tr>\n",
              "    <tr>\n",
              "      <th>142</th>\n",
              "      <td>5.8</td>\n",
              "      <td>2.7</td>\n",
              "      <td>5.1</td>\n",
              "      <td>1.9</td>\n",
              "      <td>Iris-virginica</td>\n",
              "    </tr>\n",
              "  </tbody>\n",
              "</table>\n",
              "</div>\n",
              "    <div class=\"colab-df-buttons\">\n",
              "\n",
              "  <div class=\"colab-df-container\">\n",
              "    <button class=\"colab-df-convert\" onclick=\"convertToInteractive('df-40a5389f-eaab-4807-9e35-e0ce79e76dec')\"\n",
              "            title=\"Convert this dataframe to an interactive table.\"\n",
              "            style=\"display:none;\">\n",
              "\n",
              "  <svg xmlns=\"http://www.w3.org/2000/svg\" height=\"24px\" viewBox=\"0 -960 960 960\">\n",
              "    <path d=\"M120-120v-720h720v720H120Zm60-500h600v-160H180v160Zm220 220h160v-160H400v160Zm0 220h160v-160H400v160ZM180-400h160v-160H180v160Zm440 0h160v-160H620v160ZM180-180h160v-160H180v160Zm440 0h160v-160H620v160Z\"/>\n",
              "  </svg>\n",
              "    </button>\n",
              "\n",
              "  <style>\n",
              "    .colab-df-container {\n",
              "      display:flex;\n",
              "      gap: 12px;\n",
              "    }\n",
              "\n",
              "    .colab-df-convert {\n",
              "      background-color: #E8F0FE;\n",
              "      border: none;\n",
              "      border-radius: 50%;\n",
              "      cursor: pointer;\n",
              "      display: none;\n",
              "      fill: #1967D2;\n",
              "      height: 32px;\n",
              "      padding: 0 0 0 0;\n",
              "      width: 32px;\n",
              "    }\n",
              "\n",
              "    .colab-df-convert:hover {\n",
              "      background-color: #E2EBFA;\n",
              "      box-shadow: 0px 1px 2px rgba(60, 64, 67, 0.3), 0px 1px 3px 1px rgba(60, 64, 67, 0.15);\n",
              "      fill: #174EA6;\n",
              "    }\n",
              "\n",
              "    .colab-df-buttons div {\n",
              "      margin-bottom: 4px;\n",
              "    }\n",
              "\n",
              "    [theme=dark] .colab-df-convert {\n",
              "      background-color: #3B4455;\n",
              "      fill: #D2E3FC;\n",
              "    }\n",
              "\n",
              "    [theme=dark] .colab-df-convert:hover {\n",
              "      background-color: #434B5C;\n",
              "      box-shadow: 0px 1px 3px 1px rgba(0, 0, 0, 0.15);\n",
              "      filter: drop-shadow(0px 1px 2px rgba(0, 0, 0, 0.3));\n",
              "      fill: #FFFFFF;\n",
              "    }\n",
              "  </style>\n",
              "\n",
              "    <script>\n",
              "      const buttonEl =\n",
              "        document.querySelector('#df-40a5389f-eaab-4807-9e35-e0ce79e76dec button.colab-df-convert');\n",
              "      buttonEl.style.display =\n",
              "        google.colab.kernel.accessAllowed ? 'block' : 'none';\n",
              "\n",
              "      async function convertToInteractive(key) {\n",
              "        const element = document.querySelector('#df-40a5389f-eaab-4807-9e35-e0ce79e76dec');\n",
              "        const dataTable =\n",
              "          await google.colab.kernel.invokeFunction('convertToInteractive',\n",
              "                                                    [key], {});\n",
              "        if (!dataTable) return;\n",
              "\n",
              "        const docLinkHtml = 'Like what you see? Visit the ' +\n",
              "          '<a target=\"_blank\" href=https://colab.research.google.com/notebooks/data_table.ipynb>data table notebook</a>'\n",
              "          + ' to learn more about interactive tables.';\n",
              "        element.innerHTML = '';\n",
              "        dataTable['output_type'] = 'display_data';\n",
              "        await google.colab.output.renderOutput(dataTable, element);\n",
              "        const docLink = document.createElement('div');\n",
              "        docLink.innerHTML = docLinkHtml;\n",
              "        element.appendChild(docLink);\n",
              "      }\n",
              "    </script>\n",
              "  </div>\n",
              "\n",
              "\n",
              "<div id=\"df-8535eca0-4fe9-4faf-b007-144a8353c695\">\n",
              "  <button class=\"colab-df-quickchart\" onclick=\"quickchart('df-8535eca0-4fe9-4faf-b007-144a8353c695')\"\n",
              "            title=\"Suggest charts\"\n",
              "            style=\"display:none;\">\n",
              "\n",
              "<svg xmlns=\"http://www.w3.org/2000/svg\" height=\"24px\"viewBox=\"0 0 24 24\"\n",
              "     width=\"24px\">\n",
              "    <g>\n",
              "        <path d=\"M19 3H5c-1.1 0-2 .9-2 2v14c0 1.1.9 2 2 2h14c1.1 0 2-.9 2-2V5c0-1.1-.9-2-2-2zM9 17H7v-7h2v7zm4 0h-2V7h2v10zm4 0h-2v-4h2v4z\"/>\n",
              "    </g>\n",
              "</svg>\n",
              "  </button>\n",
              "\n",
              "<style>\n",
              "  .colab-df-quickchart {\n",
              "      --bg-color: #E8F0FE;\n",
              "      --fill-color: #1967D2;\n",
              "      --hover-bg-color: #E2EBFA;\n",
              "      --hover-fill-color: #174EA6;\n",
              "      --disabled-fill-color: #AAA;\n",
              "      --disabled-bg-color: #DDD;\n",
              "  }\n",
              "\n",
              "  [theme=dark] .colab-df-quickchart {\n",
              "      --bg-color: #3B4455;\n",
              "      --fill-color: #D2E3FC;\n",
              "      --hover-bg-color: #434B5C;\n",
              "      --hover-fill-color: #FFFFFF;\n",
              "      --disabled-bg-color: #3B4455;\n",
              "      --disabled-fill-color: #666;\n",
              "  }\n",
              "\n",
              "  .colab-df-quickchart {\n",
              "    background-color: var(--bg-color);\n",
              "    border: none;\n",
              "    border-radius: 50%;\n",
              "    cursor: pointer;\n",
              "    display: none;\n",
              "    fill: var(--fill-color);\n",
              "    height: 32px;\n",
              "    padding: 0;\n",
              "    width: 32px;\n",
              "  }\n",
              "\n",
              "  .colab-df-quickchart:hover {\n",
              "    background-color: var(--hover-bg-color);\n",
              "    box-shadow: 0 1px 2px rgba(60, 64, 67, 0.3), 0 1px 3px 1px rgba(60, 64, 67, 0.15);\n",
              "    fill: var(--button-hover-fill-color);\n",
              "  }\n",
              "\n",
              "  .colab-df-quickchart-complete:disabled,\n",
              "  .colab-df-quickchart-complete:disabled:hover {\n",
              "    background-color: var(--disabled-bg-color);\n",
              "    fill: var(--disabled-fill-color);\n",
              "    box-shadow: none;\n",
              "  }\n",
              "\n",
              "  .colab-df-spinner {\n",
              "    border: 2px solid var(--fill-color);\n",
              "    border-color: transparent;\n",
              "    border-bottom-color: var(--fill-color);\n",
              "    animation:\n",
              "      spin 1s steps(1) infinite;\n",
              "  }\n",
              "\n",
              "  @keyframes spin {\n",
              "    0% {\n",
              "      border-color: transparent;\n",
              "      border-bottom-color: var(--fill-color);\n",
              "      border-left-color: var(--fill-color);\n",
              "    }\n",
              "    20% {\n",
              "      border-color: transparent;\n",
              "      border-left-color: var(--fill-color);\n",
              "      border-top-color: var(--fill-color);\n",
              "    }\n",
              "    30% {\n",
              "      border-color: transparent;\n",
              "      border-left-color: var(--fill-color);\n",
              "      border-top-color: var(--fill-color);\n",
              "      border-right-color: var(--fill-color);\n",
              "    }\n",
              "    40% {\n",
              "      border-color: transparent;\n",
              "      border-right-color: var(--fill-color);\n",
              "      border-top-color: var(--fill-color);\n",
              "    }\n",
              "    60% {\n",
              "      border-color: transparent;\n",
              "      border-right-color: var(--fill-color);\n",
              "    }\n",
              "    80% {\n",
              "      border-color: transparent;\n",
              "      border-right-color: var(--fill-color);\n",
              "      border-bottom-color: var(--fill-color);\n",
              "    }\n",
              "    90% {\n",
              "      border-color: transparent;\n",
              "      border-bottom-color: var(--fill-color);\n",
              "    }\n",
              "  }\n",
              "</style>\n",
              "\n",
              "  <script>\n",
              "    async function quickchart(key) {\n",
              "      const quickchartButtonEl =\n",
              "        document.querySelector('#' + key + ' button');\n",
              "      quickchartButtonEl.disabled = true;  // To prevent multiple clicks.\n",
              "      quickchartButtonEl.classList.add('colab-df-spinner');\n",
              "      try {\n",
              "        const charts = await google.colab.kernel.invokeFunction(\n",
              "            'suggestCharts', [key], {});\n",
              "      } catch (error) {\n",
              "        console.error('Error during call to suggestCharts:', error);\n",
              "      }\n",
              "      quickchartButtonEl.classList.remove('colab-df-spinner');\n",
              "      quickchartButtonEl.classList.add('colab-df-quickchart-complete');\n",
              "    }\n",
              "    (() => {\n",
              "      let quickchartButtonEl =\n",
              "        document.querySelector('#df-8535eca0-4fe9-4faf-b007-144a8353c695 button');\n",
              "      quickchartButtonEl.style.display =\n",
              "        google.colab.kernel.accessAllowed ? 'block' : 'none';\n",
              "    })();\n",
              "  </script>\n",
              "</div>\n",
              "\n",
              "    </div>\n",
              "  </div>\n"
            ],
            "application/vnd.google.colaboratory.intrinsic+json": {
              "type": "dataframe",
              "summary": "{\n  \"name\": \"df[df\",\n  \"rows\": 5,\n  \"fields\": [\n    {\n      \"column\": \"sepal length\",\n      \"properties\": {\n        \"dtype\": \"number\",\n        \"std\": 0.4929503017546492,\n        \"min\": 4.9,\n        \"max\": 5.8,\n        \"num_unique_values\": 2,\n        \"samples\": [\n          5.8,\n          4.9\n        ],\n        \"semantic_type\": \"\",\n        \"description\": \"\"\n      }\n    },\n    {\n      \"column\": \"sepal width\",\n      \"properties\": {\n        \"dtype\": \"number\",\n        \"std\": 0.2190890230020664,\n        \"min\": 2.7,\n        \"max\": 3.1,\n        \"num_unique_values\": 2,\n        \"samples\": [\n          2.7,\n          3.1\n        ],\n        \"semantic_type\": \"\",\n        \"description\": \"\"\n      }\n    },\n    {\n      \"column\": \"petal length\",\n      \"properties\": {\n        \"dtype\": \"number\",\n        \"std\": 1.9718012070185977,\n        \"min\": 1.5,\n        \"max\": 5.1,\n        \"num_unique_values\": 2,\n        \"samples\": [\n          5.1,\n          1.5\n        ],\n        \"semantic_type\": \"\",\n        \"description\": \"\"\n      }\n    },\n    {\n      \"column\": \"petal width\",\n      \"properties\": {\n        \"dtype\": \"number\",\n        \"std\": 0.985900603509299,\n        \"min\": 0.1,\n        \"max\": 1.9,\n        \"num_unique_values\": 2,\n        \"samples\": [\n          1.9,\n          0.1\n        ],\n        \"semantic_type\": \"\",\n        \"description\": \"\"\n      }\n    },\n    {\n      \"column\": \"class\",\n      \"properties\": {\n        \"dtype\": \"category\",\n        \"num_unique_values\": 2,\n        \"samples\": [\n          \"Iris-virginica\",\n          \"Iris-setosa\"\n        ],\n        \"semantic_type\": \"\",\n        \"description\": \"\"\n      }\n    }\n  ]\n}"
            }
          },
          "metadata": {},
          "execution_count": 53
        }
      ]
    },
    {
      "cell_type": "code",
      "source": [
        "df = df.drop_duplicates().reset_index(drop=True)"
      ],
      "metadata": {
        "id": "83YzMAeYeyFe"
      },
      "execution_count": 54,
      "outputs": []
    },
    {
      "cell_type": "code",
      "source": [
        "df"
      ],
      "metadata": {
        "colab": {
          "base_uri": "https://localhost:8080/",
          "height": 423
        },
        "id": "g9A1PiHhezBu",
        "outputId": "b2834620-c76a-408c-b522-146591f20e23"
      },
      "execution_count": 55,
      "outputs": [
        {
          "output_type": "execute_result",
          "data": {
            "text/plain": [
              "     sepal length  sepal width  petal length  petal width           class\n",
              "0             5.1          3.5           1.4          0.2     Iris-setosa\n",
              "1             4.9          3.0           1.4          0.2     Iris-setosa\n",
              "2             4.7          3.2           1.3          0.2     Iris-setosa\n",
              "3             4.6          3.1           1.5          0.2     Iris-setosa\n",
              "4             5.0          3.6           1.4          0.2     Iris-setosa\n",
              "..            ...          ...           ...          ...             ...\n",
              "142           6.7          3.0           5.2          2.3  Iris-virginica\n",
              "143           6.3          2.5           5.0          1.9  Iris-virginica\n",
              "144           6.5          3.0           5.2          2.0  Iris-virginica\n",
              "145           6.2          3.4           5.4          2.3  Iris-virginica\n",
              "146           5.9          3.0           5.1          1.8  Iris-virginica\n",
              "\n",
              "[147 rows x 5 columns]"
            ],
            "text/html": [
              "\n",
              "  <div id=\"df-0b283161-d6e5-4956-80c1-f573b3b42d60\" class=\"colab-df-container\">\n",
              "    <div>\n",
              "<style scoped>\n",
              "    .dataframe tbody tr th:only-of-type {\n",
              "        vertical-align: middle;\n",
              "    }\n",
              "\n",
              "    .dataframe tbody tr th {\n",
              "        vertical-align: top;\n",
              "    }\n",
              "\n",
              "    .dataframe thead th {\n",
              "        text-align: right;\n",
              "    }\n",
              "</style>\n",
              "<table border=\"1\" class=\"dataframe\">\n",
              "  <thead>\n",
              "    <tr style=\"text-align: right;\">\n",
              "      <th></th>\n",
              "      <th>sepal length</th>\n",
              "      <th>sepal width</th>\n",
              "      <th>petal length</th>\n",
              "      <th>petal width</th>\n",
              "      <th>class</th>\n",
              "    </tr>\n",
              "  </thead>\n",
              "  <tbody>\n",
              "    <tr>\n",
              "      <th>0</th>\n",
              "      <td>5.1</td>\n",
              "      <td>3.5</td>\n",
              "      <td>1.4</td>\n",
              "      <td>0.2</td>\n",
              "      <td>Iris-setosa</td>\n",
              "    </tr>\n",
              "    <tr>\n",
              "      <th>1</th>\n",
              "      <td>4.9</td>\n",
              "      <td>3.0</td>\n",
              "      <td>1.4</td>\n",
              "      <td>0.2</td>\n",
              "      <td>Iris-setosa</td>\n",
              "    </tr>\n",
              "    <tr>\n",
              "      <th>2</th>\n",
              "      <td>4.7</td>\n",
              "      <td>3.2</td>\n",
              "      <td>1.3</td>\n",
              "      <td>0.2</td>\n",
              "      <td>Iris-setosa</td>\n",
              "    </tr>\n",
              "    <tr>\n",
              "      <th>3</th>\n",
              "      <td>4.6</td>\n",
              "      <td>3.1</td>\n",
              "      <td>1.5</td>\n",
              "      <td>0.2</td>\n",
              "      <td>Iris-setosa</td>\n",
              "    </tr>\n",
              "    <tr>\n",
              "      <th>4</th>\n",
              "      <td>5.0</td>\n",
              "      <td>3.6</td>\n",
              "      <td>1.4</td>\n",
              "      <td>0.2</td>\n",
              "      <td>Iris-setosa</td>\n",
              "    </tr>\n",
              "    <tr>\n",
              "      <th>...</th>\n",
              "      <td>...</td>\n",
              "      <td>...</td>\n",
              "      <td>...</td>\n",
              "      <td>...</td>\n",
              "      <td>...</td>\n",
              "    </tr>\n",
              "    <tr>\n",
              "      <th>142</th>\n",
              "      <td>6.7</td>\n",
              "      <td>3.0</td>\n",
              "      <td>5.2</td>\n",
              "      <td>2.3</td>\n",
              "      <td>Iris-virginica</td>\n",
              "    </tr>\n",
              "    <tr>\n",
              "      <th>143</th>\n",
              "      <td>6.3</td>\n",
              "      <td>2.5</td>\n",
              "      <td>5.0</td>\n",
              "      <td>1.9</td>\n",
              "      <td>Iris-virginica</td>\n",
              "    </tr>\n",
              "    <tr>\n",
              "      <th>144</th>\n",
              "      <td>6.5</td>\n",
              "      <td>3.0</td>\n",
              "      <td>5.2</td>\n",
              "      <td>2.0</td>\n",
              "      <td>Iris-virginica</td>\n",
              "    </tr>\n",
              "    <tr>\n",
              "      <th>145</th>\n",
              "      <td>6.2</td>\n",
              "      <td>3.4</td>\n",
              "      <td>5.4</td>\n",
              "      <td>2.3</td>\n",
              "      <td>Iris-virginica</td>\n",
              "    </tr>\n",
              "    <tr>\n",
              "      <th>146</th>\n",
              "      <td>5.9</td>\n",
              "      <td>3.0</td>\n",
              "      <td>5.1</td>\n",
              "      <td>1.8</td>\n",
              "      <td>Iris-virginica</td>\n",
              "    </tr>\n",
              "  </tbody>\n",
              "</table>\n",
              "<p>147 rows × 5 columns</p>\n",
              "</div>\n",
              "    <div class=\"colab-df-buttons\">\n",
              "\n",
              "  <div class=\"colab-df-container\">\n",
              "    <button class=\"colab-df-convert\" onclick=\"convertToInteractive('df-0b283161-d6e5-4956-80c1-f573b3b42d60')\"\n",
              "            title=\"Convert this dataframe to an interactive table.\"\n",
              "            style=\"display:none;\">\n",
              "\n",
              "  <svg xmlns=\"http://www.w3.org/2000/svg\" height=\"24px\" viewBox=\"0 -960 960 960\">\n",
              "    <path d=\"M120-120v-720h720v720H120Zm60-500h600v-160H180v160Zm220 220h160v-160H400v160Zm0 220h160v-160H400v160ZM180-400h160v-160H180v160Zm440 0h160v-160H620v160ZM180-180h160v-160H180v160Zm440 0h160v-160H620v160Z\"/>\n",
              "  </svg>\n",
              "    </button>\n",
              "\n",
              "  <style>\n",
              "    .colab-df-container {\n",
              "      display:flex;\n",
              "      gap: 12px;\n",
              "    }\n",
              "\n",
              "    .colab-df-convert {\n",
              "      background-color: #E8F0FE;\n",
              "      border: none;\n",
              "      border-radius: 50%;\n",
              "      cursor: pointer;\n",
              "      display: none;\n",
              "      fill: #1967D2;\n",
              "      height: 32px;\n",
              "      padding: 0 0 0 0;\n",
              "      width: 32px;\n",
              "    }\n",
              "\n",
              "    .colab-df-convert:hover {\n",
              "      background-color: #E2EBFA;\n",
              "      box-shadow: 0px 1px 2px rgba(60, 64, 67, 0.3), 0px 1px 3px 1px rgba(60, 64, 67, 0.15);\n",
              "      fill: #174EA6;\n",
              "    }\n",
              "\n",
              "    .colab-df-buttons div {\n",
              "      margin-bottom: 4px;\n",
              "    }\n",
              "\n",
              "    [theme=dark] .colab-df-convert {\n",
              "      background-color: #3B4455;\n",
              "      fill: #D2E3FC;\n",
              "    }\n",
              "\n",
              "    [theme=dark] .colab-df-convert:hover {\n",
              "      background-color: #434B5C;\n",
              "      box-shadow: 0px 1px 3px 1px rgba(0, 0, 0, 0.15);\n",
              "      filter: drop-shadow(0px 1px 2px rgba(0, 0, 0, 0.3));\n",
              "      fill: #FFFFFF;\n",
              "    }\n",
              "  </style>\n",
              "\n",
              "    <script>\n",
              "      const buttonEl =\n",
              "        document.querySelector('#df-0b283161-d6e5-4956-80c1-f573b3b42d60 button.colab-df-convert');\n",
              "      buttonEl.style.display =\n",
              "        google.colab.kernel.accessAllowed ? 'block' : 'none';\n",
              "\n",
              "      async function convertToInteractive(key) {\n",
              "        const element = document.querySelector('#df-0b283161-d6e5-4956-80c1-f573b3b42d60');\n",
              "        const dataTable =\n",
              "          await google.colab.kernel.invokeFunction('convertToInteractive',\n",
              "                                                    [key], {});\n",
              "        if (!dataTable) return;\n",
              "\n",
              "        const docLinkHtml = 'Like what you see? Visit the ' +\n",
              "          '<a target=\"_blank\" href=https://colab.research.google.com/notebooks/data_table.ipynb>data table notebook</a>'\n",
              "          + ' to learn more about interactive tables.';\n",
              "        element.innerHTML = '';\n",
              "        dataTable['output_type'] = 'display_data';\n",
              "        await google.colab.output.renderOutput(dataTable, element);\n",
              "        const docLink = document.createElement('div');\n",
              "        docLink.innerHTML = docLinkHtml;\n",
              "        element.appendChild(docLink);\n",
              "      }\n",
              "    </script>\n",
              "  </div>\n",
              "\n",
              "\n",
              "<div id=\"df-47998494-71b6-49a7-9a1e-6cd8abbd4946\">\n",
              "  <button class=\"colab-df-quickchart\" onclick=\"quickchart('df-47998494-71b6-49a7-9a1e-6cd8abbd4946')\"\n",
              "            title=\"Suggest charts\"\n",
              "            style=\"display:none;\">\n",
              "\n",
              "<svg xmlns=\"http://www.w3.org/2000/svg\" height=\"24px\"viewBox=\"0 0 24 24\"\n",
              "     width=\"24px\">\n",
              "    <g>\n",
              "        <path d=\"M19 3H5c-1.1 0-2 .9-2 2v14c0 1.1.9 2 2 2h14c1.1 0 2-.9 2-2V5c0-1.1-.9-2-2-2zM9 17H7v-7h2v7zm4 0h-2V7h2v10zm4 0h-2v-4h2v4z\"/>\n",
              "    </g>\n",
              "</svg>\n",
              "  </button>\n",
              "\n",
              "<style>\n",
              "  .colab-df-quickchart {\n",
              "      --bg-color: #E8F0FE;\n",
              "      --fill-color: #1967D2;\n",
              "      --hover-bg-color: #E2EBFA;\n",
              "      --hover-fill-color: #174EA6;\n",
              "      --disabled-fill-color: #AAA;\n",
              "      --disabled-bg-color: #DDD;\n",
              "  }\n",
              "\n",
              "  [theme=dark] .colab-df-quickchart {\n",
              "      --bg-color: #3B4455;\n",
              "      --fill-color: #D2E3FC;\n",
              "      --hover-bg-color: #434B5C;\n",
              "      --hover-fill-color: #FFFFFF;\n",
              "      --disabled-bg-color: #3B4455;\n",
              "      --disabled-fill-color: #666;\n",
              "  }\n",
              "\n",
              "  .colab-df-quickchart {\n",
              "    background-color: var(--bg-color);\n",
              "    border: none;\n",
              "    border-radius: 50%;\n",
              "    cursor: pointer;\n",
              "    display: none;\n",
              "    fill: var(--fill-color);\n",
              "    height: 32px;\n",
              "    padding: 0;\n",
              "    width: 32px;\n",
              "  }\n",
              "\n",
              "  .colab-df-quickchart:hover {\n",
              "    background-color: var(--hover-bg-color);\n",
              "    box-shadow: 0 1px 2px rgba(60, 64, 67, 0.3), 0 1px 3px 1px rgba(60, 64, 67, 0.15);\n",
              "    fill: var(--button-hover-fill-color);\n",
              "  }\n",
              "\n",
              "  .colab-df-quickchart-complete:disabled,\n",
              "  .colab-df-quickchart-complete:disabled:hover {\n",
              "    background-color: var(--disabled-bg-color);\n",
              "    fill: var(--disabled-fill-color);\n",
              "    box-shadow: none;\n",
              "  }\n",
              "\n",
              "  .colab-df-spinner {\n",
              "    border: 2px solid var(--fill-color);\n",
              "    border-color: transparent;\n",
              "    border-bottom-color: var(--fill-color);\n",
              "    animation:\n",
              "      spin 1s steps(1) infinite;\n",
              "  }\n",
              "\n",
              "  @keyframes spin {\n",
              "    0% {\n",
              "      border-color: transparent;\n",
              "      border-bottom-color: var(--fill-color);\n",
              "      border-left-color: var(--fill-color);\n",
              "    }\n",
              "    20% {\n",
              "      border-color: transparent;\n",
              "      border-left-color: var(--fill-color);\n",
              "      border-top-color: var(--fill-color);\n",
              "    }\n",
              "    30% {\n",
              "      border-color: transparent;\n",
              "      border-left-color: var(--fill-color);\n",
              "      border-top-color: var(--fill-color);\n",
              "      border-right-color: var(--fill-color);\n",
              "    }\n",
              "    40% {\n",
              "      border-color: transparent;\n",
              "      border-right-color: var(--fill-color);\n",
              "      border-top-color: var(--fill-color);\n",
              "    }\n",
              "    60% {\n",
              "      border-color: transparent;\n",
              "      border-right-color: var(--fill-color);\n",
              "    }\n",
              "    80% {\n",
              "      border-color: transparent;\n",
              "      border-right-color: var(--fill-color);\n",
              "      border-bottom-color: var(--fill-color);\n",
              "    }\n",
              "    90% {\n",
              "      border-color: transparent;\n",
              "      border-bottom-color: var(--fill-color);\n",
              "    }\n",
              "  }\n",
              "</style>\n",
              "\n",
              "  <script>\n",
              "    async function quickchart(key) {\n",
              "      const quickchartButtonEl =\n",
              "        document.querySelector('#' + key + ' button');\n",
              "      quickchartButtonEl.disabled = true;  // To prevent multiple clicks.\n",
              "      quickchartButtonEl.classList.add('colab-df-spinner');\n",
              "      try {\n",
              "        const charts = await google.colab.kernel.invokeFunction(\n",
              "            'suggestCharts', [key], {});\n",
              "      } catch (error) {\n",
              "        console.error('Error during call to suggestCharts:', error);\n",
              "      }\n",
              "      quickchartButtonEl.classList.remove('colab-df-spinner');\n",
              "      quickchartButtonEl.classList.add('colab-df-quickchart-complete');\n",
              "    }\n",
              "    (() => {\n",
              "      let quickchartButtonEl =\n",
              "        document.querySelector('#df-47998494-71b6-49a7-9a1e-6cd8abbd4946 button');\n",
              "      quickchartButtonEl.style.display =\n",
              "        google.colab.kernel.accessAllowed ? 'block' : 'none';\n",
              "    })();\n",
              "  </script>\n",
              "</div>\n",
              "\n",
              "  <div id=\"id_dfae104a-88a2-472f-bd11-cfab3bea0fa6\">\n",
              "    <style>\n",
              "      .colab-df-generate {\n",
              "        background-color: #E8F0FE;\n",
              "        border: none;\n",
              "        border-radius: 50%;\n",
              "        cursor: pointer;\n",
              "        display: none;\n",
              "        fill: #1967D2;\n",
              "        height: 32px;\n",
              "        padding: 0 0 0 0;\n",
              "        width: 32px;\n",
              "      }\n",
              "\n",
              "      .colab-df-generate:hover {\n",
              "        background-color: #E2EBFA;\n",
              "        box-shadow: 0px 1px 2px rgba(60, 64, 67, 0.3), 0px 1px 3px 1px rgba(60, 64, 67, 0.15);\n",
              "        fill: #174EA6;\n",
              "      }\n",
              "\n",
              "      [theme=dark] .colab-df-generate {\n",
              "        background-color: #3B4455;\n",
              "        fill: #D2E3FC;\n",
              "      }\n",
              "\n",
              "      [theme=dark] .colab-df-generate:hover {\n",
              "        background-color: #434B5C;\n",
              "        box-shadow: 0px 1px 3px 1px rgba(0, 0, 0, 0.15);\n",
              "        filter: drop-shadow(0px 1px 2px rgba(0, 0, 0, 0.3));\n",
              "        fill: #FFFFFF;\n",
              "      }\n",
              "    </style>\n",
              "    <button class=\"colab-df-generate\" onclick=\"generateWithVariable('df')\"\n",
              "            title=\"Generate code using this dataframe.\"\n",
              "            style=\"display:none;\">\n",
              "\n",
              "  <svg xmlns=\"http://www.w3.org/2000/svg\" height=\"24px\"viewBox=\"0 0 24 24\"\n",
              "       width=\"24px\">\n",
              "    <path d=\"M7,19H8.4L18.45,9,17,7.55,7,17.6ZM5,21V16.75L18.45,3.32a2,2,0,0,1,2.83,0l1.4,1.43a1.91,1.91,0,0,1,.58,1.4,1.91,1.91,0,0,1-.58,1.4L9.25,21ZM18.45,9,17,7.55Zm-12,3A5.31,5.31,0,0,0,4.9,8.1,5.31,5.31,0,0,0,1,6.5,5.31,5.31,0,0,0,4.9,4.9,5.31,5.31,0,0,0,6.5,1,5.31,5.31,0,0,0,8.1,4.9,5.31,5.31,0,0,0,12,6.5,5.46,5.46,0,0,0,6.5,12Z\"/>\n",
              "  </svg>\n",
              "    </button>\n",
              "    <script>\n",
              "      (() => {\n",
              "      const buttonEl =\n",
              "        document.querySelector('#id_dfae104a-88a2-472f-bd11-cfab3bea0fa6 button.colab-df-generate');\n",
              "      buttonEl.style.display =\n",
              "        google.colab.kernel.accessAllowed ? 'block' : 'none';\n",
              "\n",
              "      buttonEl.onclick = () => {\n",
              "        google.colab.notebook.generateWithVariable('df');\n",
              "      }\n",
              "      })();\n",
              "    </script>\n",
              "  </div>\n",
              "\n",
              "    </div>\n",
              "  </div>\n"
            ],
            "application/vnd.google.colaboratory.intrinsic+json": {
              "type": "dataframe",
              "variable_name": "df",
              "summary": "{\n  \"name\": \"df\",\n  \"rows\": 147,\n  \"fields\": [\n    {\n      \"column\": \"sepal length\",\n      \"properties\": {\n        \"dtype\": \"number\",\n        \"std\": 0.8290998607345104,\n        \"min\": 4.3,\n        \"max\": 7.9,\n        \"num_unique_values\": 35,\n        \"samples\": [\n          6.2,\n          4.5,\n          5.6\n        ],\n        \"semantic_type\": \"\",\n        \"description\": \"\"\n      }\n    },\n    {\n      \"column\": \"sepal width\",\n      \"properties\": {\n        \"dtype\": \"number\",\n        \"std\": 0.4370087068034353,\n        \"min\": 2.0,\n        \"max\": 4.4,\n        \"num_unique_values\": 23,\n        \"samples\": [\n          2.3,\n          4.0,\n          3.5\n        ],\n        \"semantic_type\": \"\",\n        \"description\": \"\"\n      }\n    },\n    {\n      \"column\": \"petal length\",\n      \"properties\": {\n        \"dtype\": \"number\",\n        \"std\": 1.7591108999509792,\n        \"min\": 1.0,\n        \"max\": 6.9,\n        \"num_unique_values\": 43,\n        \"samples\": [\n          6.7,\n          3.8,\n          3.7\n        ],\n        \"semantic_type\": \"\",\n        \"description\": \"\"\n      }\n    },\n    {\n      \"column\": \"petal width\",\n      \"properties\": {\n        \"dtype\": \"number\",\n        \"std\": 0.7578742052400408,\n        \"min\": 0.1,\n        \"max\": 2.5,\n        \"num_unique_values\": 22,\n        \"samples\": [\n          0.2,\n          1.2,\n          1.3\n        ],\n        \"semantic_type\": \"\",\n        \"description\": \"\"\n      }\n    },\n    {\n      \"column\": \"class\",\n      \"properties\": {\n        \"dtype\": \"category\",\n        \"num_unique_values\": 3,\n        \"samples\": [\n          \"Iris-setosa\",\n          \"Iris-versicolor\",\n          \"Iris-virginica\"\n        ],\n        \"semantic_type\": \"\",\n        \"description\": \"\"\n      }\n    }\n  ]\n}"
            }
          },
          "metadata": {},
          "execution_count": 55
        }
      ]
    },
    {
      "cell_type": "markdown",
      "source": [
        "### Data Validation"
      ],
      "metadata": {
        "id": "WfQjMuXDnNLE"
      }
    },
    {
      "cell_type": "code",
      "source": [
        "df.dtypes"
      ],
      "metadata": {
        "colab": {
          "base_uri": "https://localhost:8080/",
          "height": 241
        },
        "id": "1rVPSRpunQ-a",
        "outputId": "3926a407-b173-403e-9fe0-18b6842b76ad"
      },
      "execution_count": 56,
      "outputs": [
        {
          "output_type": "execute_result",
          "data": {
            "text/plain": [
              "sepal length    float64\n",
              "sepal width     float64\n",
              "petal length    float64\n",
              "petal width     float64\n",
              "class            object\n",
              "dtype: object"
            ],
            "text/html": [
              "<div>\n",
              "<style scoped>\n",
              "    .dataframe tbody tr th:only-of-type {\n",
              "        vertical-align: middle;\n",
              "    }\n",
              "\n",
              "    .dataframe tbody tr th {\n",
              "        vertical-align: top;\n",
              "    }\n",
              "\n",
              "    .dataframe thead th {\n",
              "        text-align: right;\n",
              "    }\n",
              "</style>\n",
              "<table border=\"1\" class=\"dataframe\">\n",
              "  <thead>\n",
              "    <tr style=\"text-align: right;\">\n",
              "      <th></th>\n",
              "      <th>0</th>\n",
              "    </tr>\n",
              "  </thead>\n",
              "  <tbody>\n",
              "    <tr>\n",
              "      <th>sepal length</th>\n",
              "      <td>float64</td>\n",
              "    </tr>\n",
              "    <tr>\n",
              "      <th>sepal width</th>\n",
              "      <td>float64</td>\n",
              "    </tr>\n",
              "    <tr>\n",
              "      <th>petal length</th>\n",
              "      <td>float64</td>\n",
              "    </tr>\n",
              "    <tr>\n",
              "      <th>petal width</th>\n",
              "      <td>float64</td>\n",
              "    </tr>\n",
              "    <tr>\n",
              "      <th>class</th>\n",
              "      <td>object</td>\n",
              "    </tr>\n",
              "  </tbody>\n",
              "</table>\n",
              "</div><br><label><b>dtype:</b> object</label>"
            ]
          },
          "metadata": {},
          "execution_count": 56
        }
      ]
    },
    {
      "cell_type": "code",
      "source": [
        "df['class'].unique()"
      ],
      "metadata": {
        "colab": {
          "base_uri": "https://localhost:8080/"
        },
        "id": "VnFoNTMsnbRv",
        "outputId": "fc259246-d143-4a95-ea74-14f2239d549f"
      },
      "execution_count": 57,
      "outputs": [
        {
          "output_type": "execute_result",
          "data": {
            "text/plain": [
              "array(['Iris-setosa', 'Iris-versicolor', 'Iris-virginica'], dtype=object)"
            ]
          },
          "metadata": {},
          "execution_count": 57
        }
      ]
    },
    {
      "cell_type": "markdown",
      "source": [
        "### Dealing with Outliers"
      ],
      "metadata": {
        "id": "r2k0vxWKnCnA"
      }
    },
    {
      "cell_type": "code",
      "source": [
        "plt.figure(figsize=(10,6))\n",
        "sns.boxplot(data=df)\n",
        "plt.title(\"Boxplot of Numerical Features - Outlier Detection\")\n",
        "plt.show()"
      ],
      "metadata": {
        "colab": {
          "base_uri": "https://localhost:8080/",
          "height": 545
        },
        "id": "pJHH1mnjmpHH",
        "outputId": "81550465-68d3-4cc9-a5f3-5a37f553e02c"
      },
      "execution_count": 58,
      "outputs": [
        {
          "output_type": "display_data",
          "data": {
            "text/plain": [
              "<Figure size 1000x600 with 1 Axes>"
            ],
            "image/png": "[encoded data removed]"
          },
          "metadata": {}
        }
      ]
    },
    {
      "cell_type": "markdown",
      "source": [
        "Based on the boxplot visualization of the numerical features, a few outliers were detected in the sepal width attribute. However, after careful consideration, these outliers were not removed from the dataset. This decision was made because the Iris dataset is a well-established benchmark in the machine learning community, and the identified outliers are likely to represent valid variations in the data rather than data entry errors. Additionally, since dimensionality reduction techniques like PCA and MDS are sensitive to feature scales, the features were standardized prior to analysis. This standardization process helps to reduce the influence of outliers, ensuring they do not disproportionately impact the results. Therefore, retaining the outliers allows the analysis to remain faithful to the original dataset while still maintaining robust and meaningful results."
      ],
      "metadata": {
        "id": "6IeE6DoEqzRy"
      }
    },
    {
      "cell_type": "markdown",
      "source": [
        "## Data Preprocessing"
      ],
      "metadata": {
        "id": "ZcBayBDGyjDn"
      }
    },
    {
      "cell_type": "markdown",
      "source": [
        "Before applying dimensionality reduction techniques such as PCA and MDS, the dataset must be properly preprocessed to ensure compatibility with these algorithms and to preserve the integrity of the analysis. The preprocessing steps performed include:\n",
        "\n",
        "1. Separating numerical features from the categorical label to isolate the variables relevant for projection\n",
        "\n",
        "2. Standardizing the numerical features using z-score normalization, so that each feature has a mean of 0 and a standard deviation of 1, ensuring fair contribution to the distance calculations"
      ],
      "metadata": {
        "id": "CIUFcV-V3-9N"
      }
    },
    {
      "cell_type": "markdown",
      "source": [
        "### Standardization (z-score)"
      ],
      "metadata": {
        "id": "2cc2Doxv4O0F"
      }
    },
    {
      "cell_type": "code",
      "source": [
        "# Separate features (X) and label (y)\n",
        "X = df.drop(columns=['class'])  # Numerical features only\n",
        "y = df['class']                 # Label column\n",
        "\n",
        "# Standardize features using z-score\n",
        "scaler = StandardScaler()\n",
        "X_scaled = scaler.fit_transform(X)\n",
        "\n",
        "# Display statistics before and after standardization\n",
        "print(\"Statistics before standardization:\")\n",
        "print(pd.DataFrame(X, columns=X.columns).describe())\n",
        "\n",
        "print(\"\\nStatistics after standardization:\")\n",
        "print(pd.DataFrame(X_scaled, columns=X.columns).describe())"
      ],
      "metadata": {
        "id": "APLVbF8HqFQj",
        "colab": {
          "base_uri": "https://localhost:8080/"
        },
        "outputId": "128bf231-255e-4062-d56e-b490a99ef7f8"
      },
      "execution_count": 59,
      "outputs": [
        {
          "output_type": "stream",
          "name": "stdout",
          "text": [
            "Statistics before standardization:\n",
            "       sepal length  sepal width  petal length  petal width\n",
            "count    147.000000   147.000000    147.000000   147.000000\n",
            "mean       5.856463     3.055782      3.780272     1.208844\n",
            "std        0.829100     0.437009      1.759111     0.757874\n",
            "min        4.300000     2.000000      1.000000     0.100000\n",
            "25%        5.100000     2.800000      1.600000     0.300000\n",
            "50%        5.800000     3.000000      4.400000     1.300000\n",
            "75%        6.400000     3.300000      5.100000     1.800000\n",
            "max        7.900000     4.400000      6.900000     2.500000\n",
            "\n",
            "Statistics after standardization:\n",
            "       sepal length   sepal width  petal length   petal width\n",
            "count  1.470000e+02  1.470000e+02  1.470000e+02  1.470000e+02\n",
            "mean  -4.833624e-17  1.691768e-16 -2.416812e-16 -3.383537e-16\n",
            "std    1.003419e+00  1.003419e+00  1.003419e+00  1.003419e+00\n",
            "min   -1.883710e+00 -2.424189e+00 -1.585902e+00 -1.468099e+00\n",
            "25%   -9.155095e-01 -5.873036e-01 -1.243654e+00 -1.203301e+00\n",
            "50%   -6.833389e-02 -1.280822e-01  3.535005e-01  1.206904e-01\n",
            "75%    6.578166e-01  5.607500e-01  7.527893e-01  7.826860e-01\n",
            "max    2.473193e+00  3.086468e+00  1.779532e+00  1.709480e+00\n"
          ]
        }
      ]
    },
    {
      "cell_type": "markdown",
      "source": [
        "## Dimensionality Reduction / Feature Engineering"
      ],
      "metadata": {
        "id": "hrAjo5zhBku1"
      }
    },
    {
      "cell_type": "markdown",
      "source": [
        "Dimensionality reduction is an essential step in exploratory data analysis and model preparation, especially when dealing with high-dimensional datasets. This process transforms the original features into a lower-dimensional space while retaining as much of the relevant information as possible. In this study, Principal Component Analysis (PCA) and Multidimensional Scaling (MDS) were employed as dimensionality reduction techniques. PCA reduces dimensions by identifying directions (principal components) that capture the highest variance in the data, making it suitable for linearly structured datasets. Meanwhile, MDS preserves the pairwise distances between data points, allowing the spatial relationships within the dataset to be reflected in lower dimensions. These techniques not only help in visualizing complex data structures but also in mitigating issues such as the curse of dimensionality and noise, ultimately facilitating better interpretation and analysis."
      ],
      "metadata": {
        "id": "i3cguDIwBuNY"
      }
    },
    {
      "cell_type": "markdown",
      "source": [
        "### PCA and MDS Implementation from Scratch"
      ],
      "metadata": {
        "id": "2mfpBrCm4dwA"
      }
    },
    {
      "cell_type": "markdown",
      "source": [
        "*Preprocessing Overview*\n",
        "\n",
        "Before applying dimensionality reduction techniques, preprocessing was conducted to ensure the quality and consistency of the dataset. This included removing duplicates and standardizing all numerical features using z-score normalization (mean = 0, standard deviation = 1). The label column, class, was separated and preserved only for visualization purposes since PCA and MDS operate on numerical features."
      ],
      "metadata": {
        "id": "Zr2tYyDR4tKB"
      }
    },
    {
      "cell_type": "markdown",
      "source": [
        "#### PCA and MDS Implementation from Scratch on Iris Dataset"
      ],
      "metadata": {
        "id": "7XhPS4Ew46QZ"
      }
    },
    {
      "cell_type": "markdown",
      "source": [
        "##### PCA (Principal Component Analysis) Implementation from Scratch on Iris Dataset"
      ],
      "metadata": {
        "id": "INVmz4o-5Cr1"
      }
    },
    {
      "cell_type": "markdown",
      "source": [
        "Step 1: Calculate the Mean of Each Feature\n",
        "\n",
        "*Purpose: Determine the average value of each column for centering the data (subtracting the mean so the features are centered at zero).*"
      ],
      "metadata": {
        "id": "3tN4ZPYf5f2S"
      }
    },
    {
      "cell_type": "code",
      "source": [
        "# Step 1: Calculate the mean of each feature\n",
        "mean_vec = np.mean(X_scaled, axis=0)\n",
        "print(\"Mean vector:\\n\", mean_vec)"
      ],
      "metadata": {
        "id": "g37jSQGO47Xu",
        "colab": {
          "base_uri": "https://localhost:8080/"
        },
        "outputId": "3cd0619c-4a65-4b38-b7f6-a285b857c68d"
      },
      "execution_count": 60,
      "outputs": [
        {
          "output_type": "stream",
          "name": "stdout",
          "text": [
            "Mean vector:\n",
            " [-4.83362405e-17  1.69176842e-16 -2.41681203e-16 -3.38353684e-16]\n"
          ]
        }
      ]
    },
    {
      "cell_type": "markdown",
      "source": [
        "Step 2: Compute the Covariance Matrix\n",
        "\n",
        "*The covariance matrix shows the degree of correlation between features. This is crucial because PCA identifies directions with the highest variance.*"
      ],
      "metadata": {
        "id": "u4BW_x0-5kPP"
      }
    },
    {
      "cell_type": "code",
      "source": [
        "# Step 2: Compute the covariance matrix (between features)\n",
        "cov_matrix = np.cov(X_scaled.T)\n",
        "print(\"Matriks kovarians:\\n\", cov_matrix)"
      ],
      "metadata": {
        "id": "HRV8GwOA5eDr",
        "colab": {
          "base_uri": "https://localhost:8080/"
        },
        "outputId": "1686a55c-69e8-41e3-ed21-422fdf882250"
      },
      "execution_count": 61,
      "outputs": [
        {
          "output_type": "stream",
          "name": "stdout",
          "text": [
            "Matriks kovarians:\n",
            " [[ 1.00684932 -0.1100696   0.8772724   0.82265459]\n",
            " [-0.1100696   1.00684932 -0.42394135 -0.35881709]\n",
            " [ 0.8772724  -0.42394135  1.00684932  0.96847099]\n",
            " [ 0.82265459 -0.35881709  0.96847099  1.00684932]]\n"
          ]
        }
      ]
    },
    {
      "cell_type": "markdown",
      "source": [
        "Step 3: Calculate Eigenvalues and Eigenvectors of the Covariance Matrix\n",
        "\n",
        "*Eigenvalues represent the amount of information (variance) carried in a certain direction (eigenvector).*"
      ],
      "metadata": {
        "id": "sauT1Rfr5nlv"
      }
    },
    {
      "cell_type": "code",
      "source": [
        "# Step 3: Perform eigen decomposition (eigenvalues & eigenvectors)\n",
        "eigenvalues, eigenvectors = np.linalg.eig(cov_matrix)"
      ],
      "metadata": {
        "id": "AizxYiV95oPw"
      },
      "execution_count": 62,
      "outputs": []
    },
    {
      "cell_type": "markdown",
      "source": [
        "Step 4: Sort the Principal Components by Largest Eigenvalues\n",
        "\n",
        "*The larger the eigenvalue, the more important that component. We select the top 2 components for 2D projection.*"
      ],
      "metadata": {
        "id": "7FwWMONw5wRS"
      }
    },
    {
      "cell_type": "code",
      "source": [
        "# Step 4: Sort components by descending eigenvalues\n",
        "sorted_idx = np.argsort(eigenvalues)[::-1]\n",
        "eigenvalues = eigenvalues[sorted_idx]\n",
        "eigenvectors = eigenvectors[:, sorted_idx]\n",
        "\n",
        "print(\"Eigenvalues:\\n\", eigenvalues)\n",
        "print(\"\\nEigenvectors:\\n\", eigenvectors)"
      ],
      "metadata": {
        "id": "tyDEIoDA5tcm",
        "colab": {
          "base_uri": "https://localhost:8080/"
        },
        "outputId": "f9d0f96e-4325-47e8-bc5e-0abcc57bf6d9"
      },
      "execution_count": 63,
      "outputs": [
        {
          "output_type": "stream",
          "name": "stdout",
          "text": [
            "Eigenvalues:\n",
            " [2.92947202 0.92751016 0.14912023 0.02129485]\n",
            "\n",
            "Eigenvectors:\n",
            " [[ 0.52230226 -0.37279119 -0.72000204  0.26424259]\n",
            " [-0.26361895 -0.92535433  0.2418424  -0.1254459 ]\n",
            " [ 0.58130506 -0.02079959  0.13827615 -0.80158063]\n",
            " [ 0.56549963 -0.06567705  0.63560131  0.52144767]]\n"
          ]
        }
      ]
    },
    {
      "cell_type": "markdown",
      "source": [
        "Step 5: Select the Top 2 Principal Components"
      ],
      "metadata": {
        "id": "X_TRrBRB52o7"
      }
    },
    {
      "cell_type": "code",
      "source": [
        "# Step 5: Select the top two principal components\n",
        "W = eigenvectors[:, :2]  # 2D projection matrix\n",
        "W"
      ],
      "metadata": {
        "id": "cVcLkaAZ5zqe",
        "colab": {
          "base_uri": "https://localhost:8080/"
        },
        "outputId": "137a2bf0-ed0f-452d-acf1-57c4ef84539c"
      },
      "execution_count": 64,
      "outputs": [
        {
          "output_type": "execute_result",
          "data": {
            "text/plain": [
              "array([[ 0.52230226, -0.37279119],\n",
              "       [-0.26361895, -0.92535433],\n",
              "       [ 0.58130506, -0.02079959],\n",
              "       [ 0.56549963, -0.06567705]])"
            ]
          },
          "metadata": {},
          "execution_count": 64
        }
      ]
    },
    {
      "cell_type": "markdown",
      "source": [
        "Step 6: Project the Data to a 2D Space\n",
        "\n",
        "*Finally, multiply the standardized data by the selected eigenvectors to obtain the 2D representation.*"
      ],
      "metadata": {
        "id": "SDj_7bLS6B12"
      }
    },
    {
      "cell_type": "code",
      "source": [
        "# Step 6: Project the data\n",
        "X_pca = X_scaled @ W  # Resulting 2D PCA projection\n",
        "# Menampilkan hasil proyeksi\n",
        "print(\"Data dimension after PCA:\", X_pca.shape)"
      ],
      "metadata": {
        "id": "HXSnqSUY6EYl",
        "colab": {
          "base_uri": "https://localhost:8080/"
        },
        "outputId": "43c93f02-44bc-4bca-a26b-bffc250aef0e"
      },
      "execution_count": 65,
      "outputs": [
        {
          "output_type": "stream",
          "name": "stdout",
          "text": [
            "Data dimension after PCA: (147, 2)\n"
          ]
        }
      ]
    },
    {
      "cell_type": "code",
      "source": [
        "X_pca[:5]"
      ],
      "metadata": {
        "colab": {
          "base_uri": "https://localhost:8080/"
        },
        "id": "tdPtonm88ahT",
        "outputId": "a473488c-19cb-4d3a-8a78-6648244f38c3"
      },
      "execution_count": 66,
      "outputs": [
        {
          "output_type": "execute_result",
          "data": {
            "text/plain": [
              "array([[-2.29165366, -0.48657587],\n",
              "       [-2.11542834,  0.66601465],\n",
              "       [-2.39606952,  0.33249272],\n",
              "       [-2.33243473,  0.5877082 ],\n",
              "       [-2.41539508, -0.65393005]])"
            ]
          },
          "metadata": {},
          "execution_count": 66
        }
      ]
    },
    {
      "cell_type": "code",
      "source": [
        "X_pca"
      ],
      "metadata": {
        "colab": {
          "base_uri": "https://localhost:8080/"
        },
        "id": "Fi1-N5Ph8f4R",
        "outputId": "59ea2346-ed5f-4803-ae97-fe28dd8e2382"
      },
      "execution_count": 67,
      "outputs": [
        {
          "output_type": "execute_result",
          "data": {
            "text/plain": [
              "array([[-2.29165366, -0.48657587],\n",
              "       [-2.11542834,  0.66601465],\n",
              "       [-2.39606952,  0.33249272],\n",
              "       [-2.33243473,  0.5877082 ],\n",
              "       [-2.41539508, -0.65393005],\n",
              "       [-2.09491917, -1.49276267],\n",
              "       [-2.47231065, -0.05721475],\n",
              "       [-2.26117724, -0.23017395],\n",
              "       [-2.37095698,  1.10407134],\n",
              "       [-2.21767136,  0.46105253],\n",
              "       [-2.18991974, -1.04805609],\n",
              "       [-2.35444222, -0.14112621],\n",
              "       [-2.25351167,  0.71982732],\n",
              "       [-2.66904514,  0.94897205],\n",
              "       [-2.21813735, -1.86237893],\n",
              "       [-2.27424956, -2.68809739],\n",
              "       [-2.22755264, -1.48801693],\n",
              "       [-2.21678201, -0.49527145],\n",
              "       [-1.91962607, -1.40694707],\n",
              "       [-2.36521285, -1.13387169],\n",
              "       [-1.9420138 , -0.41301516],\n",
              "       [-2.22981146, -0.930096  ],\n",
              "       [-2.80087524, -0.46871597],\n",
              "       [-1.84650413, -0.09127939],\n",
              "       [-2.25496712, -0.14468551],\n",
              "       [-1.98589993,  0.61852469],\n",
              "       [-2.07827556, -0.24875155],\n",
              "       [-2.19528362, -0.53287939],\n",
              "       [-2.16791225, -0.31922168],\n",
              "       [-2.29659443,  0.32893341],\n",
              "       [-2.17285301,  0.49628759],\n",
              "       [-1.85858723, -0.42803346],\n",
              "       [-2.63333369, -1.79901141],\n",
              "       [-2.46251511, -2.15434308],\n",
              "       [-2.23959286,  0.19832789],\n",
              "       [-2.07196533, -0.66585777],\n",
              "       [-2.46464508,  0.89278651],\n",
              "       [-2.19796556, -0.27529103],\n",
              "       [-2.31315205, -0.44896793],\n",
              "       [-1.9028536 ,  2.32627272],\n",
              "       [-2.58570455,  0.46784397],\n",
              "       [-1.98906199, -0.47861399],\n",
              "       [-2.15770773, -1.14731301],\n",
              "       [-2.10376836,  0.70243615],\n",
              "       [-2.40692614, -1.12636254],\n",
              "       [-2.42612283,  0.37642337],\n",
              "       [-2.25313142, -1.00293901],\n",
              "       [-2.23380587, -0.01651624],\n",
              "       [ 1.08364332, -0.84988604],\n",
              "       [ 0.71292819, -0.58550625],\n",
              "       [ 1.22214977, -0.60336615],\n",
              "       [ 0.3732556 ,  1.75611228],\n",
              "       [ 1.05141718,  0.21807531],\n",
              "       [ 0.3628221 ,  0.59758959],\n",
              "       [ 0.73037517, -0.76392888],\n",
              "       [-0.52326772,  1.84873532],\n",
              "       [ 0.90435581, -0.02212188],\n",
              "       [-0.01678508,  1.03406931],\n",
              "       [-0.15162037,  2.65113044],\n",
              "       [ 0.41845419,  0.06858102],\n",
              "       [ 0.52522874,  1.76908487],\n",
              "       [ 0.69632745,  0.19358153],\n",
              "       [-0.05934461,  0.44091332],\n",
              "       [ 0.85506293, -0.49850422],\n",
              "       [ 0.32829426,  0.20037297],\n",
              "       [ 0.12931508,  0.79577627],\n",
              "       [ 1.1918022 ,  1.62944061],\n",
              "       [ 0.13250612,  1.30463026],\n",
              "       [ 0.72095988, -0.38956688],\n",
              "       [ 0.44987697,  0.42305342],\n",
              "       [ 1.20605813,  0.94216398],\n",
              "       [ 0.60711388,  0.42344397],\n",
              "       [ 0.67845736,  0.0716716 ],\n",
              "       [ 0.85238099, -0.24091586],\n",
              "       [ 1.23249728,  0.08904676],\n",
              "       [ 1.33915783, -0.31923831],\n",
              "       [ 0.6416707 ,  0.2323759 ],\n",
              "       [-0.07231706,  1.06048323],\n",
              "       [ 0.09666582,  1.56340505],\n",
              "       [-0.0113642 ,  1.57328707],\n",
              "       [ 0.21274166,  0.78075797],\n",
              "       [ 1.03655202,  0.64150424],\n",
              "       [ 0.20187091,  0.29060714],\n",
              "       [ 0.41389368, -0.83867602],\n",
              "       [ 1.02940969, -0.5107591 ],\n",
              "       [ 1.01158246,  1.39042985],\n",
              "       [ 0.04591749,  0.22250988],\n",
              "       [ 0.25219613,  1.33116974],\n",
              "       [ 0.2494282 ,  1.12264832],\n",
              "       [ 0.60263935, -0.0177033 ],\n",
              "       [ 0.30642976,  0.9920428 ],\n",
              "       [-0.39952631,  2.0160895 ],\n",
              "       [ 0.26066506,  0.85873725],\n",
              "       [ 0.06741587,  0.18490195],\n",
              "       [ 0.20281727,  0.38867763],\n",
              "       [ 0.55203401,  0.16190577],\n",
              "       [-0.48197755,  1.5408936 ],\n",
              "       [ 0.23018863,  0.60233533],\n",
              "       [ 1.83527883, -0.85761279],\n",
              "       [ 1.13474364,  0.70565166],\n",
              "       [ 2.18991645, -0.5451669 ],\n",
              "       [ 1.42066272,  0.05788711],\n",
              "       [ 1.85235969, -0.28197354],\n",
              "       [ 2.73808339, -0.77905737],\n",
              "       [ 0.33820453,  1.56115774],\n",
              "       [ 2.28488804, -0.40158879],\n",
              "       [ 1.9819451 ,  0.72493097],\n",
              "       [ 2.25575307, -1.9022668 ],\n",
              "       [ 1.34944834, -0.68121986],\n",
              "       [ 1.58033042,  0.43257628],\n",
              "       [ 1.86764796, -0.40506991],\n",
              "       [ 1.23430473,  1.16820213],\n",
              "       [ 1.44857218,  0.44970247],\n",
              "       [ 1.57716837, -0.6645624 ],\n",
              "       [ 1.45339797, -0.2436319 ],\n",
              "       [ 2.4250872 , -2.53382662],\n",
              "       [ 3.29263242,  0.00476014],\n",
              "       [ 1.23117068,  1.7137426 ],\n",
              "       [ 2.02586021, -0.89489357],\n",
              "       [ 0.95634548,  0.57709185],\n",
              "       [ 2.88064125, -0.39172277],\n",
              "       [ 1.30961363,  0.49113469],\n",
              "       [ 1.68916381, -0.99973949],\n",
              "       [ 1.94061205, -0.99032621],\n",
              "       [ 1.15271385,  0.32496694],\n",
              "       [ 1.00160107, -0.05604495],\n",
              "       [ 1.7690191 ,  0.19915454],\n",
              "       [ 1.84561148, -0.54561963],\n",
              "       [ 2.41718437, -0.24055732],\n",
              "       [ 2.30229214, -2.60311032],\n",
              "       [ 1.84389075,  0.19045895],\n",
              "       [ 1.09078566,  0.3023773 ],\n",
              "       [ 1.17634196,  0.82031742],\n",
              "       [ 2.78524655, -0.83563345],\n",
              "       [ 1.56724398, -1.05664274],\n",
              "       [ 1.32965656, -0.41098608],\n",
              "       [ 0.90523103, -0.00974143],\n",
              "       [ 1.83717153, -0.66147182],\n",
              "       [ 2.00167988, -0.59969728],\n",
              "       [ 1.88743975, -0.67530369],\n",
              "       [ 2.02896527, -0.85214935],\n",
              "       [ 1.98865043, -1.03452183],\n",
              "       [ 1.8547045 , -0.37378468],\n",
              "       [ 1.53870312,  0.9061952 ],\n",
              "       [ 1.50366618, -0.25746376],\n",
              "       [ 1.36284391, -1.0004572 ],\n",
              "       [ 0.94149445,  0.03181636]])"
            ]
          },
          "metadata": {},
          "execution_count": 67
        }
      ]
    },
    {
      "cell_type": "code",
      "source": [
        "# PCA Visualization\n",
        "colors = {\n",
        "    'Iris-setosa': '#e75480',       # pink\n",
        "    'Iris-versicolor': '#da70d6',   # orchid\n",
        "    'Iris-virginica': '#8a2be2'     # blue violet\n",
        "}\n",
        "\n",
        "plt.figure(figsize=(8, 6))\n",
        "for label in np.unique(y):\n",
        "    plt.scatter(\n",
        "        X_pca[y == label, 0],\n",
        "        X_pca[y == label, 1],\n",
        "        label=label,\n",
        "        alpha=0.7,\n",
        "        color=colors[label]  # this will now work\n",
        "    )\n",
        "plt.title(\"PCA: 2D Projection of Iris Dataset\")\n",
        "plt.xlabel(\"Principal Component 1\")\n",
        "plt.ylabel(\"Principal Component 2\")\n",
        "plt.legend()\n",
        "plt.grid(True)\n",
        "plt.show()"
      ],
      "metadata": {
        "colab": {
          "base_uri": "https://localhost:8080/",
          "height": 564
        },
        "id": "Vy2OGiC38Tp_",
        "outputId": "93862af0-2633-42be-950d-9853bc8725d2"
      },
      "execution_count": 68,
      "outputs": [
        {
          "output_type": "display_data",
          "data": {
            "text/plain": [
              "<Figure size 800x600 with 1 Axes>"
            ],
            "image/png": "[encoded data removed]"
          },
          "metadata": {}
        }
      ]
    },
    {
      "cell_type": "markdown",
      "source": [
        "The PCA visualization reveals a strong separation between the Iris-setosa class and the other two, suggesting that this class is linearly separable in the original feature space. Iris-versicolor and Iris-virginica, however, display some degree of overlap, which implies that their feature distributions are more similar and harder to separate in just two principal components.\n",
        "\n",
        "Principal Component 1 captures the largest variance in the data, likely associated with petal length and width — features known to be highly discriminative in the Iris dataset. While PCA successfully condenses the data into a two-dimensional space for visualization, its linear nature may not fully capture more complex relationships between the classes, especially between Versicolor and Virginica.\n",
        "\n",
        "Nevertheless, the visualization is informative for exploratory analysis and suggests that PCA can reduce dimensionality without a significant loss of class structure, at least for the most distinct class."
      ],
      "metadata": {
        "id": "SVNqsyCP9-Cc"
      }
    },
    {
      "cell_type": "markdown",
      "source": [
        "##### MDS (Multidimensional Scaling) Implementation from Scratch on Iris Dataset"
      ],
      "metadata": {
        "id": "MXCi_PVk_QfN"
      }
    },
    {
      "cell_type": "markdown",
      "source": [
        "Step 1 & 2: Compute Pairwise Distances & Build Distance Matrix\n",
        "\n",
        "*We’ll use Euclidean distance to compute all pairwise distances between rows (samples), then build a square distance matrix.*"
      ],
      "metadata": {
        "id": "F04IZoqnAb43"
      }
    },
    {
      "cell_type": "code",
      "source": [
        "# Step 1 & 2: Compute pairwise Euclidean distances and build distance matrix\n",
        "D = squareform(pdist(X_scaled, metric='euclidean'))  # D is a (n x n) distance matrix\n",
        "D[:5, :5]"
      ],
      "metadata": {
        "id": "JgVnsFk7AdTB",
        "colab": {
          "base_uri": "https://localhost:8080/"
        },
        "outputId": "17ad69f1-3fb1-494a-a7bb-67269eb466b3"
      },
      "execution_count": 69,
      "outputs": [
        {
          "output_type": "execute_result",
          "data": {
            "text/plain": [
              "array([[0.        , 1.1732925 , 0.84385814, 1.10134816, 0.25955375],\n",
              "       [1.1732925 , 0.        , 0.52223205, 0.43335716, 1.38296998],\n",
              "       [0.84385814, 0.52223205, 0.        , 0.2835189 , 0.98924953],\n",
              "       [1.10134816, 0.43335716, 0.2835189 , 0.        , 1.24725052],\n",
              "       [0.25955375, 1.38296998, 0.98924953, 1.24725052, 0.        ]])"
            ]
          },
          "metadata": {},
          "execution_count": 69
        }
      ]
    },
    {
      "cell_type": "markdown",
      "source": [
        "Step 3: Apply Classical MDS Algorithm\n",
        "\n",
        "*The idea is to use the distance matrix D and apply double-centering to transform it into an inner-product matrix B, which we can then decompose into eigenvalues and eigenvectors.*"
      ],
      "metadata": {
        "id": "bHAwzZ8aAiFG"
      }
    },
    {
      "cell_type": "code",
      "source": [
        "# Number of samples\n",
        "n = D.shape[0]\n",
        "\n",
        "# Centering matrix\n",
        "H = np.eye(n) - np.ones((n, n)) / n\n",
        "\n",
        "# Double centering to get the Gram matrix (inner product matrix)\n",
        "B = -0.5 * H @ (D ** 2) @ H\n",
        "\n",
        "# Eigen decomposition\n",
        "eigenvalues_mds, eigenvectors_mds = np.linalg.eigh(B)\n",
        "\n",
        "# Sort by largest eigenvalues\n",
        "idx = np.argsort(eigenvalues_mds)[::-1]\n",
        "eigenvalues_mds = eigenvalues_mds[idx]\n",
        "eigenvectors_mds = eigenvectors_mds[:, idx]\n",
        "\n",
        "# Take the top 2 dimensions\n",
        "X_mds = eigenvectors_mds[:, :2] * np.sqrt(eigenvalues_mds[:2])\n",
        "\n",
        "print(\"Data dimension after PCA:\", X_pca.shape)"
      ],
      "metadata": {
        "id": "yQqax4rmAgnC",
        "colab": {
          "base_uri": "https://localhost:8080/"
        },
        "outputId": "03617fd1-1d43-4d46-911b-a7858cc2ca53"
      },
      "execution_count": 70,
      "outputs": [
        {
          "output_type": "stream",
          "name": "stdout",
          "text": [
            "Data dimension after PCA: (147, 2)\n"
          ]
        }
      ]
    },
    {
      "cell_type": "code",
      "source": [
        "X_mds[:5]"
      ],
      "metadata": {
        "colab": {
          "base_uri": "https://localhost:8080/"
        },
        "id": "huj363-h9Rfx",
        "outputId": "ad2befc0-ebf9-4a7a-e9c0-5dcac9e6030c"
      },
      "execution_count": 71,
      "outputs": [
        {
          "output_type": "execute_result",
          "data": {
            "text/plain": [
              "array([[-2.29165366, -0.48657587],\n",
              "       [-2.11542834,  0.66601465],\n",
              "       [-2.39606952,  0.33249272],\n",
              "       [-2.33243473,  0.5877082 ],\n",
              "       [-2.41539508, -0.65393005]])"
            ]
          },
          "metadata": {},
          "execution_count": 71
        }
      ]
    },
    {
      "cell_type": "code",
      "source": [
        "# Plot MDS\n",
        "colors = {\n",
        "    'Iris-setosa': '#e75480',       # pink\n",
        "    'Iris-versicolor': '#da70d6',   # orchid\n",
        "    'Iris-virginica': '#8a2be2'     # blue violet\n",
        "}\n",
        "plt.figure(figsize=(8, 6))\n",
        "for label in np.unique(y):\n",
        "    plt.scatter(\n",
        "        X_mds[y == label, 0],\n",
        "        X_mds[y == label, 1],\n",
        "        label=label,\n",
        "        alpha=0.7,\n",
        "        color=colors[label]\n",
        "    )\n",
        "plt.title(\"MDS: 2D Projection\")\n",
        "plt.xlabel(\"Dim 1\")\n",
        "plt.ylabel(\"Dim 2\")\n",
        "plt.legend()\n",
        "plt.grid(True)\n",
        "\n",
        "plt.tight_layout()\n",
        "plt.show()"
      ],
      "metadata": {
        "colab": {
          "base_uri": "https://localhost:8080/",
          "height": 607
        },
        "id": "FQOYxbRB9uoB",
        "outputId": "fd2b41e1-ca71-49ab-fcb1-a4c3b9194bfd"
      },
      "execution_count": 72,
      "outputs": [
        {
          "output_type": "display_data",
          "data": {
            "text/plain": [
              "<Figure size 800x600 with 1 Axes>"
            ],
            "image/png": "[encoded data removed]"
          },
          "metadata": {}
        }
      ]
    },
    {
      "cell_type": "markdown",
      "source": [
        "The MDS visualization also demonstrates a clear separation of the Iris-setosa class from the other two, indicating that the distance-based relationships in the original feature space distinctly isolate this group. Iris-versicolor and Iris-virginica, however, appear more intermixed, with several data points lying near the boundary between the two classes. This suggests that, based on pairwise distances, the distinction between these two species is less pronounced.\n",
        "\n",
        "Unlike PCA, which projects data based on variance, MDS seeks to preserve the relative distances among data points. This allows MDS to potentially capture subtle, non-linear structures. In this case, the arrangement of points in MDS space reflects the proximity relationships in the high-dimensional data, though it does not provide interpretable axes linked to specific features.\n",
        "\n",
        "Overall, the MDS plot offers a complementary view to PCA, emphasizing how the inherent distances between samples relate to class membership. While it does not enhance class separation beyond what PCA provides in this dataset, it reinforces the separability of Iris-setosa and highlights the ambiguity between Versicolor and Virginica."
      ],
      "metadata": {
        "id": "9AmWv8Bj-meo"
      }
    },
    {
      "cell_type": "markdown",
      "source": [
        "#### PCA and MDS Comparison"
      ],
      "metadata": {
        "id": "kQdrnF0a9-zJ"
      }
    },
    {
      "cell_type": "code",
      "source": [
        "# PCA vs. MDS\n",
        "colors = {\n",
        "    'Iris-setosa': '#e75480',       # pink\n",
        "    'Iris-versicolor': '#da70d6',   # orchid\n",
        "    'Iris-virginica': '#8a2be2'     # blue violet\n",
        "}\n",
        "\n",
        "plt.figure(figsize=(12, 5))\n",
        "\n",
        "# Plot PCA\n",
        "plt.subplot(1, 2, 1)\n",
        "for label in np.unique(y):\n",
        "    plt.scatter(\n",
        "        X_pca[y == label, 0],\n",
        "        X_pca[y == label, 1],\n",
        "        label=label,\n",
        "        alpha=0.7,\n",
        "        color=colors[label]\n",
        "    )\n",
        "plt.title(\"PCA: 2D Projection\")\n",
        "plt.xlabel(\"PC1\")\n",
        "plt.ylabel(\"PC2\")\n",
        "plt.legend()\n",
        "plt.grid(True)\n",
        "\n",
        "# Plot MDS\n",
        "plt.subplot(1, 2, 2)\n",
        "for label in np.unique(y):\n",
        "    plt.scatter(\n",
        "        X_mds[y == label, 0],\n",
        "        X_mds[y == label, 1],\n",
        "        label=label,\n",
        "        alpha=0.7,\n",
        "        color=colors[label]\n",
        "    )\n",
        "plt.title(\"MDS: 2D Projection\")\n",
        "plt.xlabel(\"Dim 1\")\n",
        "plt.ylabel(\"Dim 2\")\n",
        "plt.legend()\n",
        "plt.grid(True)\n",
        "\n",
        "plt.tight_layout()\n",
        "plt.show()"
      ],
      "metadata": {
        "colab": {
          "base_uri": "https://localhost:8080/",
          "height": 361
        },
        "id": "9dAqceINAltU",
        "outputId": "943237aa-16ee-4efa-b228-a173d9c611e0"
      },
      "execution_count": 73,
      "outputs": [
        {
          "output_type": "display_data",
          "data": {
            "text/plain": [
              "<Figure size 1200x500 with 2 Axes>"
            ],
            "image/png": "[encoded data removed]"
          },
          "metadata": {}
        }
      ]
    },
    {
      "cell_type": "markdown",
      "source": [
        "Although PCA and MDS are fundamentally different techniques—PCA preserving variance and MDS preserving pairwise distances—their 2D visualizations of the Iris dataset appear remarkably similar. This is likely because the Iris dataset has a well-structured and low-dimensional nature, where both variance and distance align in a way that reveals consistent class groupings. However, in more complex datasets, PCA and MDS often produce very different projections."
      ],
      "metadata": {
        "id": "ogD-kfA9A_Le"
      }
    },
    {
      "cell_type": "markdown",
      "source": [
        "#### Comparative Analysis of PCA and MDS Projection Results"
      ],
      "metadata": {
        "id": "WIt1oVP4-2NY"
      }
    },
    {
      "cell_type": "markdown",
      "source": [
        "\n",
        "\n",
        "***Comparative Analysis of PCA and MDS Projection Results***\n",
        "\n",
        "1. **Class Separation**\n",
        "\n",
        "In both projection results (PCA and MDS), the Iris-setosa class appears clearly separated from the other two classes. This indicates that both PCA and MDS are equally capable of isolating this class due to its distinct characteristics.  \n",
        "However, for the Iris-versicolor and Iris-virginica classes, there is a noticeable overlap in both visualizations. Nevertheless, the PCA projection seems to provide slightly more distinct separation between these two classes compared to MDS.\n",
        "\n",
        "2. **Interpretation of Reduced Dimensions**\n",
        "\n",
        "PCA generates new dimensions (PC1 and PC2) as linear combinations of the original features, ordered based on the highest variance contribution. Therefore, the resulting PCA dimensions can still be interpreted and used to understand the dominant directions in the data.\n",
        "\n",
        "In contrast, MDS does not produce dimensions derived from the original features. The dimensions resulting from MDS projections are more spatial in nature and do not carry explicit mathematical meaning. Its main objective is to preserve the distances between samples as in the original data. Thus, numerical interpretation of MDS dimensions is not applicable.\n",
        "\n",
        "3. **Strengths and Limitations of Each Method**\n",
        "\n",
        "**PCA:**  \n",
        "The main advantage of PCA lies in its efficiency and its ability to produce interpretable new dimensions. This method is particularly suitable when we want to understand the variance structure in the data, especially if the relationships among features are linear. However, PCA cannot capture non-linear relationships in the data.\n",
        "\n",
        "**MDS:**  \n",
        "The key strength of MDS is its ability to preserve the distances between samples, making it ideal for visual analysis that focuses on the similarity between data points. MDS can also be used to uncover non-linear structures (especially when using non-metric MDS). However, MDS tends to be slower and does not offer direct interpretability of its projection dimensions.\n",
        "\n",
        "**Conclusion**\n",
        "\n",
        "*Although PCA and MDS use different approaches, on the well-structured and low-dimensional Iris dataset, both produce similar 2D projections. Iris-setosa is clearly separated, while Iris-versicolor and Iris-virginica show overlapping areas. PCA is superior in terms of dimensional interpretation and computational efficiency, while MDS excels in preserving pairwise distances between data points. On more complex or non-linear datasets, the difference between PCA and MDS projection results can become much more significant.*\n",
        "\n",
        "This analysis demonstrated how Principal Component Analysis (PCA) and Multidimensional Scaling (MDS) can be effectively applied to visualize high-dimensional data in two dimensions. After thorough preprocessing—including handling duplicates, validating data quality, and standardizing numerical features—the Iris dataset was projected using both PCA and MDS. While PCA captured the directions of maximum variance and allowed for interpretability of components, MDS focused on preserving pairwise distances to reflect relational proximity between samples. Both methods successfully highlighted the distinct nature of the Iris-setosa class and revealed partial overlap between Iris-versicolor and Iris-virginica. These findings underscore the importance of using complementary dimensionality reduction techniques to gain deeper insights into data structure, especially in early stages of exploratory data analysis. Although PCA and MDS produced similar visual groupings in this case due to the structured nature of the Iris dataset, more complex datasets may benefit differently from each method’s strengths."
      ],
      "metadata": {
        "id": "kD6M1RqW-6Yx"
      }
    }
  ]
}